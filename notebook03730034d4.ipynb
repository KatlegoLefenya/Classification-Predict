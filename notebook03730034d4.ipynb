{
 "cells": [
  {
   "cell_type": "markdown",
   "metadata": {
    "papermill": {
     "duration": 0.011767,
     "end_time": "2020-10-18T17:01:26.831125",
     "exception": false,
     "start_time": "2020-10-18T17:01:26.819358",
     "status": "completed"
    },
    "tags": []
   },
   "source": [
    "# **Import necessary libraries**"
   ]
  },
  {
   "cell_type": "code",
   "execution_count": 1,
   "metadata": {
    "_cell_guid": "79c7e3d0-c299-4dcb-8224-4455121ee9b0",
    "_uuid": "d629ff2d2480ee46fbb7e2d37f6b5fab8052498a",
    "execution": {
     "iopub.execute_input": "2020-10-18T17:01:26.861604Z",
     "iopub.status.busy": "2020-10-18T17:01:26.860988Z",
     "iopub.status.idle": "2020-10-18T17:01:29.026873Z",
     "shell.execute_reply": "2020-10-18T17:01:29.026425Z"
    },
    "papermill": {
     "duration": 2.185202,
     "end_time": "2020-10-18T17:01:29.026969",
     "exception": false,
     "start_time": "2020-10-18T17:01:26.841767",
     "status": "completed"
    },
    "tags": []
   },
   "outputs": [],
   "source": [
    "# Standard packages\n",
    "import numpy as np\n",
    "import pandas as pd\n",
    "import matplotlib.pyplot as plt\n",
    "import seaborn as sns\n",
    "%matplotlib inline\n",
    "from gensim.parsing.preprocessing import remove_stopwords\n",
    "\n",
    "# nltk for preprocessing of text data\n",
    "import nltk\n",
    "import string\n",
    "import re\n",
    "from nltk.tokenize import sent_tokenize, word_tokenize\n",
    "from nltk.corpus import stopwords\n",
    "from nltk.stem import WordNetLemmatizer\n",
    "from nltk import TreebankWordTokenizer, SnowballStemmer\n",
    "\n",
    "# sklearn for preprocessing and machine learning models\n",
    "from sklearn.feature_extraction.text import TfidfVectorizer\n",
    "from sklearn.model_selection import GridSearchCV\n",
    "from sklearn.linear_model import LogisticRegression\n",
    "from sklearn.neighbors import KNeighborsClassifier\n",
    "from sklearn.naive_bayes import GaussianNB\n",
    "from sklearn.naive_bayes import MultinomialNB\n",
    "from sklearn.ensemble import RandomForestClassifier, AdaBoostClassifier\n",
    "from sklearn.svm import SVC\n",
    "from sklearn.model_selection import train_test_split\n",
    "from sklearn.metrics import f1_score"
   ]
  },
  {
   "cell_type": "markdown",
   "metadata": {
    "papermill": {
     "duration": 0.010297,
     "end_time": "2020-10-18T17:01:29.048291",
     "exception": false,
     "start_time": "2020-10-18T17:01:29.037994",
     "status": "completed"
    },
    "tags": []
   },
   "source": [
    "# **Load data**"
   ]
  },
  {
   "cell_type": "code",
   "execution_count": 2,
   "metadata": {
    "execution": {
     "iopub.execute_input": "2020-10-18T17:01:29.077824Z",
     "iopub.status.busy": "2020-10-18T17:01:29.077372Z",
     "iopub.status.idle": "2020-10-18T17:01:29.164966Z",
     "shell.execute_reply": "2020-10-18T17:01:29.164433Z"
    },
    "papermill": {
     "duration": 0.10616,
     "end_time": "2020-10-18T17:01:29.165052",
     "exception": false,
     "start_time": "2020-10-18T17:01:29.058892",
     "status": "completed"
    },
    "tags": []
   },
   "outputs": [
    {
     "data": {
      "text/html": [
       "<div>\n",
       "<style scoped>\n",
       "    .dataframe tbody tr th:only-of-type {\n",
       "        vertical-align: middle;\n",
       "    }\n",
       "\n",
       "    .dataframe tbody tr th {\n",
       "        vertical-align: top;\n",
       "    }\n",
       "\n",
       "    .dataframe thead th {\n",
       "        text-align: right;\n",
       "    }\n",
       "</style>\n",
       "<table border=\"1\" class=\"dataframe\">\n",
       "  <thead>\n",
       "    <tr style=\"text-align: right;\">\n",
       "      <th></th>\n",
       "      <th>sentiment</th>\n",
       "      <th>message</th>\n",
       "      <th>tweetid</th>\n",
       "    </tr>\n",
       "  </thead>\n",
       "  <tbody>\n",
       "    <tr>\n",
       "      <th>0</th>\n",
       "      <td>1</td>\n",
       "      <td>PolySciMajor EPA chief doesn't think carbon di...</td>\n",
       "      <td>625221</td>\n",
       "    </tr>\n",
       "    <tr>\n",
       "      <th>1</th>\n",
       "      <td>1</td>\n",
       "      <td>It's not like we lack evidence of anthropogeni...</td>\n",
       "      <td>126103</td>\n",
       "    </tr>\n",
       "    <tr>\n",
       "      <th>2</th>\n",
       "      <td>2</td>\n",
       "      <td>RT @RawStory: Researchers say we have three ye...</td>\n",
       "      <td>698562</td>\n",
       "    </tr>\n",
       "    <tr>\n",
       "      <th>3</th>\n",
       "      <td>1</td>\n",
       "      <td>#TodayinMaker# WIRED : 2016 was a pivotal year...</td>\n",
       "      <td>573736</td>\n",
       "    </tr>\n",
       "    <tr>\n",
       "      <th>4</th>\n",
       "      <td>1</td>\n",
       "      <td>RT @SoyNovioDeTodas: It's 2016, and a racist, ...</td>\n",
       "      <td>466954</td>\n",
       "    </tr>\n",
       "  </tbody>\n",
       "</table>\n",
       "</div>"
      ],
      "text/plain": [
       "   sentiment                                            message  tweetid\n",
       "0          1  PolySciMajor EPA chief doesn't think carbon di...   625221\n",
       "1          1  It's not like we lack evidence of anthropogeni...   126103\n",
       "2          2  RT @RawStory: Researchers say we have three ye...   698562\n",
       "3          1  #TodayinMaker# WIRED : 2016 was a pivotal year...   573736\n",
       "4          1  RT @SoyNovioDeTodas: It's 2016, and a racist, ...   466954"
      ]
     },
     "execution_count": 2,
     "metadata": {},
     "output_type": "execute_result"
    }
   ],
   "source": [
    "train = pd.read_csv('../input/climate-change-edsa2020-21/train.csv')\n",
    "test = pd.read_csv('../input/climate-change-edsa2020-21/test.csv')\n",
    "train.head()"
   ]
  },
  {
   "cell_type": "markdown",
   "metadata": {
    "papermill": {
     "duration": 0.011079,
     "end_time": "2020-10-18T17:01:29.188588",
     "exception": false,
     "start_time": "2020-10-18T17:01:29.177509",
     "status": "completed"
    },
    "tags": []
   },
   "source": [
    "# **Preprocessing**"
   ]
  },
  {
   "cell_type": "code",
   "execution_count": 3,
   "metadata": {
    "execution": {
     "iopub.execute_input": "2020-10-18T17:01:29.216647Z",
     "iopub.status.busy": "2020-10-18T17:01:29.216211Z",
     "iopub.status.idle": "2020-10-18T17:01:29.747251Z",
     "shell.execute_reply": "2020-10-18T17:01:29.746878Z"
    },
    "papermill": {
     "duration": 0.547315,
     "end_time": "2020-10-18T17:01:29.747329",
     "exception": false,
     "start_time": "2020-10-18T17:01:29.200014",
     "status": "completed"
    },
    "tags": []
   },
   "outputs": [
    {
     "data": {
      "text/html": [
       "<div>\n",
       "<style scoped>\n",
       "    .dataframe tbody tr th:only-of-type {\n",
       "        vertical-align: middle;\n",
       "    }\n",
       "\n",
       "    .dataframe tbody tr th {\n",
       "        vertical-align: top;\n",
       "    }\n",
       "\n",
       "    .dataframe thead th {\n",
       "        text-align: right;\n",
       "    }\n",
       "</style>\n",
       "<table border=\"1\" class=\"dataframe\">\n",
       "  <thead>\n",
       "    <tr style=\"text-align: right;\">\n",
       "      <th></th>\n",
       "      <th>sentiment</th>\n",
       "      <th>message</th>\n",
       "      <th>tweetid</th>\n",
       "    </tr>\n",
       "  </thead>\n",
       "  <tbody>\n",
       "    <tr>\n",
       "      <th>0</th>\n",
       "      <td>1</td>\n",
       "      <td>PolySciMajor EPA chief doesn't think carbon di...</td>\n",
       "      <td>625221</td>\n",
       "    </tr>\n",
       "    <tr>\n",
       "      <th>1</th>\n",
       "      <td>1</td>\n",
       "      <td>It's like lack evidence anthropogenic global w...</td>\n",
       "      <td>126103</td>\n",
       "    </tr>\n",
       "    <tr>\n",
       "      <th>2</th>\n",
       "      <td>2</td>\n",
       "      <td>RT @RawStory: Researchers years act climate ch...</td>\n",
       "      <td>698562</td>\n",
       "    </tr>\n",
       "    <tr>\n",
       "      <th>3</th>\n",
       "      <td>1</td>\n",
       "      <td>#TodayinMaker# WIRED : 2016 pivotal year war c...</td>\n",
       "      <td>573736</td>\n",
       "    </tr>\n",
       "    <tr>\n",
       "      <th>4</th>\n",
       "      <td>1</td>\n",
       "      <td>RT @SoyNovioDeTodas: It's 2016, racist, sexist...</td>\n",
       "      <td>466954</td>\n",
       "    </tr>\n",
       "  </tbody>\n",
       "</table>\n",
       "</div>"
      ],
      "text/plain": [
       "   sentiment                                            message  tweetid\n",
       "0          1  PolySciMajor EPA chief doesn't think carbon di...   625221\n",
       "1          1  It's like lack evidence anthropogenic global w...   126103\n",
       "2          2  RT @RawStory: Researchers years act climate ch...   698562\n",
       "3          1  #TodayinMaker# WIRED : 2016 pivotal year war c...   573736\n",
       "4          1  RT @SoyNovioDeTodas: It's 2016, racist, sexist...   466954"
      ]
     },
     "execution_count": 3,
     "metadata": {},
     "output_type": "execute_result"
    }
   ],
   "source": [
    "# Remove stopwords\n",
    "\n",
    "def stopword_removal(row):\n",
    "    message = row['message']\n",
    "    message = remove_stopwords(message)\n",
    "    return message\n",
    "\n",
    "train['message'] = train.apply(stopword_removal, axis=1)\n",
    "test['message'] = test.apply(stopword_removal, axis=1)\n",
    "\n",
    "train.head()"
   ]
  },
  {
   "cell_type": "markdown",
   "metadata": {
    "papermill": {
     "duration": 0.010915,
     "end_time": "2020-10-18T17:01:29.769451",
     "exception": false,
     "start_time": "2020-10-18T17:01:29.758536",
     "status": "completed"
    },
    "tags": []
   },
   "source": [
    "**Creating a bag of words and assigning our stemmer and lemmatizer**"
   ]
  },
  {
   "cell_type": "code",
   "execution_count": 4,
   "metadata": {
    "execution": {
     "iopub.execute_input": "2020-10-18T17:01:29.814444Z",
     "iopub.status.busy": "2020-10-18T17:01:29.809365Z",
     "iopub.status.idle": "2020-10-18T17:01:30.221872Z",
     "shell.execute_reply": "2020-10-18T17:01:30.221340Z"
    },
    "papermill": {
     "duration": 0.440898,
     "end_time": "2020-10-18T17:01:30.221959",
     "exception": false,
     "start_time": "2020-10-18T17:01:29.781061",
     "status": "completed"
    },
    "tags": []
   },
   "outputs": [
    {
     "data": {
      "text/html": [
       "<div>\n",
       "<style scoped>\n",
       "    .dataframe tbody tr th:only-of-type {\n",
       "        vertical-align: middle;\n",
       "    }\n",
       "\n",
       "    .dataframe tbody tr th {\n",
       "        vertical-align: top;\n",
       "    }\n",
       "\n",
       "    .dataframe thead th {\n",
       "        text-align: right;\n",
       "    }\n",
       "</style>\n",
       "<table border=\"1\" class=\"dataframe\">\n",
       "  <thead>\n",
       "    <tr style=\"text-align: right;\">\n",
       "      <th></th>\n",
       "      <th>message</th>\n",
       "      <th>tweetid</th>\n",
       "    </tr>\n",
       "  </thead>\n",
       "  <tbody>\n",
       "    <tr>\n",
       "      <th>0</th>\n",
       "      <td>europe looking china sure fighting climate cha...</td>\n",
       "      <td>169760</td>\n",
       "    </tr>\n",
       "    <tr>\n",
       "      <th>1</th>\n",
       "      <td>combine polling staffers climate change womens...</td>\n",
       "      <td>35326</td>\n",
       "    </tr>\n",
       "    <tr>\n",
       "      <th>2</th>\n",
       "      <td>the scary unimpeachable evidence climate chang...</td>\n",
       "      <td>224985</td>\n",
       "    </tr>\n",
       "    <tr>\n",
       "      <th>3</th>\n",
       "      <td>karoli morgfair osborneink dailykos putin got...</td>\n",
       "      <td>476263</td>\n",
       "    </tr>\n",
       "    <tr>\n",
       "      <th>4</th>\n",
       "      <td>rt fakewillmoore female orgasms cause global w...</td>\n",
       "      <td>872928</td>\n",
       "    </tr>\n",
       "  </tbody>\n",
       "</table>\n",
       "</div>"
      ],
      "text/plain": [
       "                                             message  tweetid\n",
       "0  europe looking china sure fighting climate cha...   169760\n",
       "1  combine polling staffers climate change womens...    35326\n",
       "2  the scary unimpeachable evidence climate chang...   224985\n",
       "3   karoli morgfair osborneink dailykos putin got...   476263\n",
       "4  rt fakewillmoore female orgasms cause global w...   872928"
      ]
     },
     "execution_count": 4,
     "metadata": {},
     "output_type": "execute_result"
    }
   ],
   "source": [
    "# Remove extra white spaces, punctuation and apply lower casing\n",
    "\n",
    "train['message'] = train['message'].str.lower().str.replace('[^\\w\\s]',' ').str.replace('\\s\\s+', ' ')\n",
    "test['message'] = test['message'].str.lower().str.replace('[^\\w\\s]',' ').str.replace('\\s\\s+', ' ')\n",
    "test.head()"
   ]
  },
  {
   "cell_type": "markdown",
   "metadata": {
    "papermill": {
     "duration": 0.011694,
     "end_time": "2020-10-18T17:01:30.245768",
     "exception": false,
     "start_time": "2020-10-18T17:01:30.234074",
     "status": "completed"
    },
    "tags": []
   },
   "source": [
    "# **Split data to X and y variables**"
   ]
  },
  {
   "cell_type": "code",
   "execution_count": 5,
   "metadata": {
    "execution": {
     "iopub.execute_input": "2020-10-18T17:01:30.273735Z",
     "iopub.status.busy": "2020-10-18T17:01:30.273030Z",
     "iopub.status.idle": "2020-10-18T17:01:30.275158Z",
     "shell.execute_reply": "2020-10-18T17:01:30.275617Z"
    },
    "papermill": {
     "duration": 0.018307,
     "end_time": "2020-10-18T17:01:30.275749",
     "exception": false,
     "start_time": "2020-10-18T17:01:30.257442",
     "status": "completed"
    },
    "tags": []
   },
   "outputs": [],
   "source": [
    "y = train['sentiment']\n",
    "X = train['message']"
   ]
  },
  {
   "cell_type": "markdown",
   "metadata": {
    "papermill": {
     "duration": 0.016953,
     "end_time": "2020-10-18T17:01:30.310310",
     "exception": false,
     "start_time": "2020-10-18T17:01:30.293357",
     "status": "completed"
    },
    "tags": []
   },
   "source": [
    "# **Turning text into something your model can read**"
   ]
  },
  {
   "cell_type": "code",
   "execution_count": 6,
   "metadata": {
    "execution": {
     "iopub.execute_input": "2020-10-18T17:01:30.358364Z",
     "iopub.status.busy": "2020-10-18T17:01:30.352423Z",
     "iopub.status.idle": "2020-10-18T17:01:30.952975Z",
     "shell.execute_reply": "2020-10-18T17:01:30.952543Z"
    },
    "papermill": {
     "duration": 0.625543,
     "end_time": "2020-10-18T17:01:30.953060",
     "exception": false,
     "start_time": "2020-10-18T17:01:30.327517",
     "status": "completed"
    },
    "tags": []
   },
   "outputs": [],
   "source": [
    "vectorizer = TfidfVectorizer(strip_accents='unicode', ngram_range=(1, 2), min_df=2, sublinear_tf=True)\n",
    "X_vectorized = vectorizer.fit_transform(X)"
   ]
  },
  {
   "cell_type": "markdown",
   "metadata": {
    "papermill": {
     "duration": 0.011884,
     "end_time": "2020-10-18T17:01:30.977221",
     "exception": false,
     "start_time": "2020-10-18T17:01:30.965337",
     "status": "completed"
    },
    "tags": []
   },
   "source": [
    "# Splitting the training data into a training and validation set"
   ]
  },
  {
   "cell_type": "code",
   "execution_count": 7,
   "metadata": {
    "execution": {
     "iopub.execute_input": "2020-10-18T17:01:31.007662Z",
     "iopub.status.busy": "2020-10-18T17:01:31.007067Z",
     "iopub.status.idle": "2020-10-18T17:01:31.019480Z",
     "shell.execute_reply": "2020-10-18T17:01:31.018972Z"
    },
    "papermill": {
     "duration": 0.03023,
     "end_time": "2020-10-18T17:01:31.019586",
     "exception": false,
     "start_time": "2020-10-18T17:01:30.989356",
     "status": "completed"
    },
    "tags": []
   },
   "outputs": [],
   "source": [
    "X_train,X_val,y_train,y_val = train_test_split(X_vectorized,y,test_size=0.1,shuffle=True, \n",
    "                                                stratify=y, random_state=21)"
   ]
  },
  {
   "cell_type": "markdown",
   "metadata": {
    "papermill": {
     "duration": 0.017455,
     "end_time": "2020-10-18T17:01:31.054924",
     "exception": false,
     "start_time": "2020-10-18T17:01:31.037469",
     "status": "completed"
    },
    "tags": []
   },
   "source": [
    "# **Training the model and evaluating using the validation set**"
   ]
  },
  {
   "cell_type": "code",
   "execution_count": 8,
   "metadata": {
    "execution": {
     "iopub.execute_input": "2020-10-18T17:01:31.094900Z",
     "iopub.status.busy": "2020-10-18T17:01:31.094140Z",
     "iopub.status.idle": "2020-10-18T17:01:59.897222Z",
     "shell.execute_reply": "2020-10-18T17:01:59.896775Z"
    },
    "papermill": {
     "duration": 28.824662,
     "end_time": "2020-10-18T17:01:59.897313",
     "exception": false,
     "start_time": "2020-10-18T17:01:31.072651",
     "status": "completed"
    },
    "tags": []
   },
   "outputs": [],
   "source": [
    "svc = SVC(kernel=\"linear\")\n",
    "svc.fit(X_train,y_train)\n",
    "svc_pred = svc.predict(X_val)"
   ]
  },
  {
   "cell_type": "code",
   "execution_count": 9,
   "metadata": {
    "execution": {
     "iopub.execute_input": "2020-10-18T17:01:59.925648Z",
     "iopub.status.busy": "2020-10-18T17:01:59.925227Z",
     "iopub.status.idle": "2020-10-18T17:01:59.931890Z",
     "shell.execute_reply": "2020-10-18T17:01:59.931505Z"
    },
    "papermill": {
     "duration": 0.022589,
     "end_time": "2020-10-18T17:01:59.931960",
     "exception": false,
     "start_time": "2020-10-18T17:01:59.909371",
     "status": "completed"
    },
    "tags": []
   },
   "outputs": [
    {
     "data": {
      "text/plain": [
       "0.684444970232956"
      ]
     },
     "execution_count": 9,
     "metadata": {},
     "output_type": "execute_result"
    }
   ],
   "source": [
    "f1_score(y_val, svc_pred, average=\"macro\")"
   ]
  },
  {
   "cell_type": "markdown",
   "metadata": {
    "papermill": {
     "duration": 0.011846,
     "end_time": "2020-10-18T17:01:59.955678",
     "exception": false,
     "start_time": "2020-10-18T17:01:59.943832",
     "status": "completed"
    },
    "tags": []
   },
   "source": [
    "# **Getting our test set ready**"
   ]
  },
  {
   "cell_type": "code",
   "execution_count": 10,
   "metadata": {
    "execution": {
     "iopub.execute_input": "2020-10-18T17:02:00.003142Z",
     "iopub.status.busy": "2020-10-18T17:01:59.998676Z",
     "iopub.status.idle": "2020-10-18T17:02:00.516930Z",
     "shell.execute_reply": "2020-10-18T17:02:00.516472Z"
    },
    "papermill": {
     "duration": 0.549486,
     "end_time": "2020-10-18T17:02:00.517009",
     "exception": false,
     "start_time": "2020-10-18T17:01:59.967523",
     "status": "completed"
    },
    "tags": []
   },
   "outputs": [],
   "source": [
    "testx = test['message']\n",
    "test_vect = vectorizer.transform(testx)"
   ]
  },
  {
   "cell_type": "markdown",
   "metadata": {
    "papermill": {
     "duration": 0.012223,
     "end_time": "2020-10-18T17:02:00.541505",
     "exception": false,
     "start_time": "2020-10-18T17:02:00.529282",
     "status": "completed"
    },
    "tags": []
   },
   "source": [
    "# **Making predictions on the test set and adding a sentiment column to our original test df**"
   ]
  },
  {
   "cell_type": "code",
   "execution_count": 11,
   "metadata": {
    "execution": {
     "iopub.execute_input": "2020-10-18T17:02:00.570151Z",
     "iopub.status.busy": "2020-10-18T17:02:00.569682Z",
     "iopub.status.idle": "2020-10-18T17:02:15.809080Z",
     "shell.execute_reply": "2020-10-18T17:02:15.808574Z"
    },
    "papermill": {
     "duration": 15.255455,
     "end_time": "2020-10-18T17:02:15.809161",
     "exception": false,
     "start_time": "2020-10-18T17:02:00.553706",
     "status": "completed"
    },
    "tags": []
   },
   "outputs": [],
   "source": [
    "y_pred = svc.predict(test_vect)"
   ]
  },
  {
   "cell_type": "code",
   "execution_count": 12,
   "metadata": {
    "execution": {
     "iopub.execute_input": "2020-10-18T17:02:15.839938Z",
     "iopub.status.busy": "2020-10-18T17:02:15.839263Z",
     "iopub.status.idle": "2020-10-18T17:02:15.842321Z",
     "shell.execute_reply": "2020-10-18T17:02:15.841909Z"
    },
    "papermill": {
     "duration": 0.019861,
     "end_time": "2020-10-18T17:02:15.842401",
     "exception": false,
     "start_time": "2020-10-18T17:02:15.822540",
     "status": "completed"
    },
    "tags": []
   },
   "outputs": [],
   "source": [
    "test['sentiment'] = y_pred"
   ]
  },
  {
   "cell_type": "code",
   "execution_count": 13,
   "metadata": {
    "execution": {
     "iopub.execute_input": "2020-10-18T17:02:15.875646Z",
     "iopub.status.busy": "2020-10-18T17:02:15.875122Z",
     "iopub.status.idle": "2020-10-18T17:02:15.880149Z",
     "shell.execute_reply": "2020-10-18T17:02:15.879534Z"
    },
    "papermill": {
     "duration": 0.0249,
     "end_time": "2020-10-18T17:02:15.880244",
     "exception": false,
     "start_time": "2020-10-18T17:02:15.855344",
     "status": "completed"
    },
    "tags": []
   },
   "outputs": [
    {
     "data": {
      "text/html": [
       "<div>\n",
       "<style scoped>\n",
       "    .dataframe tbody tr th:only-of-type {\n",
       "        vertical-align: middle;\n",
       "    }\n",
       "\n",
       "    .dataframe tbody tr th {\n",
       "        vertical-align: top;\n",
       "    }\n",
       "\n",
       "    .dataframe thead th {\n",
       "        text-align: right;\n",
       "    }\n",
       "</style>\n",
       "<table border=\"1\" class=\"dataframe\">\n",
       "  <thead>\n",
       "    <tr style=\"text-align: right;\">\n",
       "      <th></th>\n",
       "      <th>message</th>\n",
       "      <th>tweetid</th>\n",
       "      <th>sentiment</th>\n",
       "    </tr>\n",
       "  </thead>\n",
       "  <tbody>\n",
       "    <tr>\n",
       "      <th>0</th>\n",
       "      <td>europe looking china sure fighting climate cha...</td>\n",
       "      <td>169760</td>\n",
       "      <td>1</td>\n",
       "    </tr>\n",
       "    <tr>\n",
       "      <th>1</th>\n",
       "      <td>combine polling staffers climate change womens...</td>\n",
       "      <td>35326</td>\n",
       "      <td>1</td>\n",
       "    </tr>\n",
       "    <tr>\n",
       "      <th>2</th>\n",
       "      <td>the scary unimpeachable evidence climate chang...</td>\n",
       "      <td>224985</td>\n",
       "      <td>1</td>\n",
       "    </tr>\n",
       "    <tr>\n",
       "      <th>3</th>\n",
       "      <td>karoli morgfair osborneink dailykos putin got...</td>\n",
       "      <td>476263</td>\n",
       "      <td>1</td>\n",
       "    </tr>\n",
       "    <tr>\n",
       "      <th>4</th>\n",
       "      <td>rt fakewillmoore female orgasms cause global w...</td>\n",
       "      <td>872928</td>\n",
       "      <td>0</td>\n",
       "    </tr>\n",
       "  </tbody>\n",
       "</table>\n",
       "</div>"
      ],
      "text/plain": [
       "                                             message  tweetid  sentiment\n",
       "0  europe looking china sure fighting climate cha...   169760          1\n",
       "1  combine polling staffers climate change womens...    35326          1\n",
       "2  the scary unimpeachable evidence climate chang...   224985          1\n",
       "3   karoli morgfair osborneink dailykos putin got...   476263          1\n",
       "4  rt fakewillmoore female orgasms cause global w...   872928          0"
      ]
     },
     "execution_count": 13,
     "metadata": {},
     "output_type": "execute_result"
    }
   ],
   "source": [
    "test.head()"
   ]
  },
  {
   "cell_type": "markdown",
   "metadata": {
    "papermill": {
     "duration": 0.01896,
     "end_time": "2020-10-18T17:02:15.918574",
     "exception": false,
     "start_time": "2020-10-18T17:02:15.899614",
     "status": "completed"
    },
    "tags": []
   },
   "source": [
    "# **Creating an output csv for submission**"
   ]
  },
  {
   "cell_type": "code",
   "execution_count": 14,
   "metadata": {
    "execution": {
     "iopub.execute_input": "2020-10-18T17:02:15.963076Z",
     "iopub.status.busy": "2020-10-18T17:02:15.962611Z",
     "iopub.status.idle": "2020-10-18T17:02:16.297531Z",
     "shell.execute_reply": "2020-10-18T17:02:16.298034Z"
    },
    "papermill": {
     "duration": 0.360263,
     "end_time": "2020-10-18T17:02:16.298166",
     "exception": false,
     "start_time": "2020-10-18T17:02:15.937903",
     "status": "completed"
    },
    "tags": []
   },
   "outputs": [],
   "source": [
    "test[['tweetid','sentiment']].to_csv('testsubmission.csv', index=False)"
   ]
  }
 ],
 "metadata": {
  "kernelspec": {
   "display_name": "Python 3",
   "language": "python",
   "name": "python3"
  },
  "language_info": {
   "codemirror_mode": {
    "name": "ipython",
    "version": 3
   },
   "file_extension": ".py",
   "mimetype": "text/x-python",
   "name": "python",
   "nbconvert_exporter": "python",
   "pygments_lexer": "ipython3",
   "version": "3.7.6"
  },
  "papermill": {
   "duration": 53.420697,
   "end_time": "2020-10-18T17:02:16.425525",
   "environment_variables": {},
   "exception": null,
   "input_path": "__notebook__.ipynb",
   "output_path": "__notebook__.ipynb",
   "parameters": {},
   "start_time": "2020-10-18T17:01:23.004828",
   "version": "2.1.0"
  }
 },
 "nbformat": 4,
 "nbformat_minor": 4
}
