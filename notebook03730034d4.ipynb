{
 "cells": [
  {
   "cell_type": "markdown",
   "metadata": {
    "papermill": {
     "duration": 0.016945,
     "end_time": "2020-10-13T08:42:02.895852",
     "exception": false,
     "start_time": "2020-10-13T08:42:02.878907",
     "status": "completed"
    },
    "tags": []
   },
   "source": [
    "# **Import necessary libraries**"
   ]
  },
  {
   "cell_type": "code",
   "execution_count": 1,
   "metadata": {
    "_cell_guid": "79c7e3d0-c299-4dcb-8224-4455121ee9b0",
    "_uuid": "d629ff2d2480ee46fbb7e2d37f6b5fab8052498a",
    "execution": {
     "iopub.execute_input": "2020-10-13T08:42:02.944318Z",
     "iopub.status.busy": "2020-10-13T08:42:02.943485Z",
     "iopub.status.idle": "2020-10-13T08:42:05.121881Z",
     "shell.execute_reply": "2020-10-13T08:42:05.121091Z"
    },
    "papermill": {
     "duration": 2.210062,
     "end_time": "2020-10-13T08:42:05.122012",
     "exception": false,
     "start_time": "2020-10-13T08:42:02.911950",
     "status": "completed"
    },
    "tags": []
   },
   "outputs": [],
   "source": [
    "# Standard packages\n",
    "import numpy as np\n",
    "import pandas as pd\n",
    "import matplotlib.pyplot as plt\n",
    "import seaborn as sns\n",
    "%matplotlib inline\n",
    "\n",
    "\n",
    "# nltk for preprocessing of text data\n",
    "import nltk\n",
    "import string\n",
    "import re\n",
    "from nltk.tokenize import sent_tokenize, word_tokenize\n",
    "from nltk.corpus import stopwords\n",
    "from nltk.stem import WordNetLemmatizer\n",
    "from nltk.stem.snowball import SnowballStemmer\n",
    "\n",
    "# sklearn for preprocessing and machine learning models\n",
    "from sklearn.feature_extraction.text import TfidfVectorizer\n",
    "from sklearn.model_selection import GridSearchCV\n",
    "from sklearn.linear_model import LogisticRegression\n",
    "from sklearn.neighbors import KNeighborsClassifier\n",
    "from sklearn.naive_bayes import GaussianNB\n",
    "from sklearn.naive_bayes import MultinomialNB\n",
    "from sklearn.ensemble import RandomForestClassifier, AdaBoostClassifier\n",
    "from sklearn.svm import SVC\n",
    "from sklearn.model_selection import train_test_split\n",
    "from sklearn.metrics import f1_score\n",
    "\n"
   ]
  },
  {
   "cell_type": "markdown",
   "metadata": {
    "papermill": {
     "duration": 0.014759,
     "end_time": "2020-10-13T08:42:05.152268",
     "exception": false,
     "start_time": "2020-10-13T08:42:05.137509",
     "status": "completed"
    },
    "tags": []
   },
   "source": [
    "# **Load data**"
   ]
  },
  {
   "cell_type": "code",
   "execution_count": 2,
   "metadata": {
    "execution": {
     "iopub.execute_input": "2020-10-13T08:42:05.197978Z",
     "iopub.status.busy": "2020-10-13T08:42:05.197212Z",
     "iopub.status.idle": "2020-10-13T08:42:05.355692Z",
     "shell.execute_reply": "2020-10-13T08:42:05.355056Z"
    },
    "papermill": {
     "duration": 0.188359,
     "end_time": "2020-10-13T08:42:05.355834",
     "exception": false,
     "start_time": "2020-10-13T08:42:05.167475",
     "status": "completed"
    },
    "tags": []
   },
   "outputs": [],
   "source": [
    "train = pd.read_csv('../input/climate-change-edsa2020-21/train.csv')\n",
    "test = pd.read_csv('../input/climate-change-edsa2020-21/test.csv')"
   ]
  },
  {
   "cell_type": "markdown",
   "metadata": {
    "papermill": {
     "duration": 0.015593,
     "end_time": "2020-10-13T08:42:05.388530",
     "exception": false,
     "start_time": "2020-10-13T08:42:05.372937",
     "status": "completed"
    },
    "tags": []
   },
   "source": [
    "# **Split data to X and y variables**"
   ]
  },
  {
   "cell_type": "code",
   "execution_count": 3,
   "metadata": {
    "execution": {
     "iopub.execute_input": "2020-10-13T08:42:05.432335Z",
     "iopub.status.busy": "2020-10-13T08:42:05.431271Z",
     "iopub.status.idle": "2020-10-13T08:42:05.434667Z",
     "shell.execute_reply": "2020-10-13T08:42:05.433928Z"
    },
    "papermill": {
     "duration": 0.030838,
     "end_time": "2020-10-13T08:42:05.434794",
     "exception": false,
     "start_time": "2020-10-13T08:42:05.403956",
     "status": "completed"
    },
    "tags": []
   },
   "outputs": [],
   "source": [
    "y = train['sentiment']\n",
    "X = train['message']"
   ]
  },
  {
   "cell_type": "markdown",
   "metadata": {
    "papermill": {
     "duration": 0.016202,
     "end_time": "2020-10-13T08:42:05.466837",
     "exception": false,
     "start_time": "2020-10-13T08:42:05.450635",
     "status": "completed"
    },
    "tags": []
   },
   "source": [
    "# **Turning text into something your model can read**"
   ]
  },
  {
   "cell_type": "code",
   "execution_count": 4,
   "metadata": {
    "execution": {
     "iopub.execute_input": "2020-10-13T08:42:05.523250Z",
     "iopub.status.busy": "2020-10-13T08:42:05.517945Z",
     "iopub.status.idle": "2020-10-13T08:42:06.643199Z",
     "shell.execute_reply": "2020-10-13T08:42:06.642387Z"
    },
    "papermill": {
     "duration": 1.160078,
     "end_time": "2020-10-13T08:42:06.643330",
     "exception": false,
     "start_time": "2020-10-13T08:42:05.483252",
     "status": "completed"
    },
    "tags": []
   },
   "outputs": [],
   "source": [
    "vectorizer = TfidfVectorizer(ngram_range=(1,2), min_df=2, stop_words=\"english\")\n",
    "X_vectorized = vectorizer.fit_transform(X)"
   ]
  },
  {
   "cell_type": "markdown",
   "metadata": {
    "papermill": {
     "duration": 0.015487,
     "end_time": "2020-10-13T08:42:06.674713",
     "exception": false,
     "start_time": "2020-10-13T08:42:06.659226",
     "status": "completed"
    },
    "tags": []
   },
   "source": [
    "# Splitting the training data into a training and validation set"
   ]
  },
  {
   "cell_type": "code",
   "execution_count": 5,
   "metadata": {
    "execution": {
     "iopub.execute_input": "2020-10-13T08:42:06.713940Z",
     "iopub.status.busy": "2020-10-13T08:42:06.713094Z",
     "iopub.status.idle": "2020-10-13T08:42:06.734226Z",
     "shell.execute_reply": "2020-10-13T08:42:06.733413Z"
    },
    "papermill": {
     "duration": 0.043853,
     "end_time": "2020-10-13T08:42:06.734363",
     "exception": false,
     "start_time": "2020-10-13T08:42:06.690510",
     "status": "completed"
    },
    "tags": []
   },
   "outputs": [],
   "source": [
    "X_train,X_val,y_train,y_val = train_test_split(X_vectorized,y,test_size=0.3,shuffle=True, \n",
    "                                                stratify=y, random_state=50)"
   ]
  },
  {
   "cell_type": "markdown",
   "metadata": {
    "papermill": {
     "duration": 0.016887,
     "end_time": "2020-10-13T08:42:06.768051",
     "exception": false,
     "start_time": "2020-10-13T08:42:06.751164",
     "status": "completed"
    },
    "tags": []
   },
   "source": [
    "# **Training the model and evaluating using the validation set**"
   ]
  },
  {
   "cell_type": "code",
   "execution_count": 6,
   "metadata": {
    "execution": {
     "iopub.execute_input": "2020-10-13T08:42:06.808042Z",
     "iopub.status.busy": "2020-10-13T08:42:06.806907Z",
     "iopub.status.idle": "2020-10-13T08:42:32.566650Z",
     "shell.execute_reply": "2020-10-13T08:42:32.565973Z"
    },
    "papermill": {
     "duration": 25.782313,
     "end_time": "2020-10-13T08:42:32.566790",
     "exception": false,
     "start_time": "2020-10-13T08:42:06.784477",
     "status": "completed"
    },
    "tags": []
   },
   "outputs": [],
   "source": [
    "svc = SVC(kernel='linear')\n",
    "svc.fit(X_train,y_train)\n",
    "svc_pred = svc.predict(X_val)"
   ]
  },
  {
   "cell_type": "code",
   "execution_count": 7,
   "metadata": {
    "execution": {
     "iopub.execute_input": "2020-10-13T08:42:32.605953Z",
     "iopub.status.busy": "2020-10-13T08:42:32.605142Z",
     "iopub.status.idle": "2020-10-13T08:42:32.615694Z",
     "shell.execute_reply": "2020-10-13T08:42:32.615070Z"
    },
    "papermill": {
     "duration": 0.032457,
     "end_time": "2020-10-13T08:42:32.615834",
     "exception": false,
     "start_time": "2020-10-13T08:42:32.583377",
     "status": "completed"
    },
    "tags": []
   },
   "outputs": [
    {
     "data": {
      "text/plain": [
       "0.6547616564927567"
      ]
     },
     "execution_count": 7,
     "metadata": {},
     "output_type": "execute_result"
    }
   ],
   "source": [
    "f1_score(y_val, svc_pred, average=\"macro\")"
   ]
  },
  {
   "cell_type": "markdown",
   "metadata": {
    "papermill": {
     "duration": 0.016338,
     "end_time": "2020-10-13T08:42:32.649396",
     "exception": false,
     "start_time": "2020-10-13T08:42:32.633058",
     "status": "completed"
    },
    "tags": []
   },
   "source": [
    "# **Getting our test set ready**"
   ]
  },
  {
   "cell_type": "code",
   "execution_count": 8,
   "metadata": {
    "execution": {
     "iopub.execute_input": "2020-10-13T08:42:32.724727Z",
     "iopub.status.busy": "2020-10-13T08:42:32.698757Z",
     "iopub.status.idle": "2020-10-13T08:42:33.230538Z",
     "shell.execute_reply": "2020-10-13T08:42:33.229896Z"
    },
    "papermill": {
     "duration": 0.563941,
     "end_time": "2020-10-13T08:42:33.230675",
     "exception": false,
     "start_time": "2020-10-13T08:42:32.666734",
     "status": "completed"
    },
    "tags": []
   },
   "outputs": [],
   "source": [
    "testx = test['message']\n",
    "test_vect = vectorizer.transform(testx)"
   ]
  },
  {
   "cell_type": "markdown",
   "metadata": {
    "papermill": {
     "duration": 0.017216,
     "end_time": "2020-10-13T08:42:33.265139",
     "exception": false,
     "start_time": "2020-10-13T08:42:33.247923",
     "status": "completed"
    },
    "tags": []
   },
   "source": [
    "# **Making predictions on the test set and adding a sentiment column to our original test df**"
   ]
  },
  {
   "cell_type": "code",
   "execution_count": 9,
   "metadata": {
    "execution": {
     "iopub.execute_input": "2020-10-13T08:42:33.306250Z",
     "iopub.status.busy": "2020-10-13T08:42:33.305291Z",
     "iopub.status.idle": "2020-10-13T08:42:45.896585Z",
     "shell.execute_reply": "2020-10-13T08:42:45.895942Z"
    },
    "papermill": {
     "duration": 12.61343,
     "end_time": "2020-10-13T08:42:45.896743",
     "exception": false,
     "start_time": "2020-10-13T08:42:33.283313",
     "status": "completed"
    },
    "tags": []
   },
   "outputs": [],
   "source": [
    "y_pred = svc.predict(test_vect)"
   ]
  },
  {
   "cell_type": "code",
   "execution_count": 10,
   "metadata": {
    "execution": {
     "iopub.execute_input": "2020-10-13T08:42:45.938574Z",
     "iopub.status.busy": "2020-10-13T08:42:45.937748Z",
     "iopub.status.idle": "2020-10-13T08:42:45.941048Z",
     "shell.execute_reply": "2020-10-13T08:42:45.941646Z"
    },
    "papermill": {
     "duration": 0.02692,
     "end_time": "2020-10-13T08:42:45.941818",
     "exception": false,
     "start_time": "2020-10-13T08:42:45.914898",
     "status": "completed"
    },
    "tags": []
   },
   "outputs": [],
   "source": [
    "test['sentiment'] = y_pred"
   ]
  },
  {
   "cell_type": "code",
   "execution_count": 11,
   "metadata": {
    "execution": {
     "iopub.execute_input": "2020-10-13T08:42:45.985940Z",
     "iopub.status.busy": "2020-10-13T08:42:45.985088Z",
     "iopub.status.idle": "2020-10-13T08:42:45.993954Z",
     "shell.execute_reply": "2020-10-13T08:42:45.993204Z"
    },
    "papermill": {
     "duration": 0.034925,
     "end_time": "2020-10-13T08:42:45.994096",
     "exception": false,
     "start_time": "2020-10-13T08:42:45.959171",
     "status": "completed"
    },
    "tags": []
   },
   "outputs": [
    {
     "data": {
      "text/html": [
       "<div>\n",
       "<style scoped>\n",
       "    .dataframe tbody tr th:only-of-type {\n",
       "        vertical-align: middle;\n",
       "    }\n",
       "\n",
       "    .dataframe tbody tr th {\n",
       "        vertical-align: top;\n",
       "    }\n",
       "\n",
       "    .dataframe thead th {\n",
       "        text-align: right;\n",
       "    }\n",
       "</style>\n",
       "<table border=\"1\" class=\"dataframe\">\n",
       "  <thead>\n",
       "    <tr style=\"text-align: right;\">\n",
       "      <th></th>\n",
       "      <th>message</th>\n",
       "      <th>tweetid</th>\n",
       "      <th>sentiment</th>\n",
       "    </tr>\n",
       "  </thead>\n",
       "  <tbody>\n",
       "    <tr>\n",
       "      <th>0</th>\n",
       "      <td>Europe will now be looking to China to make su...</td>\n",
       "      <td>169760</td>\n",
       "      <td>1</td>\n",
       "    </tr>\n",
       "    <tr>\n",
       "      <th>1</th>\n",
       "      <td>Combine this with the polling of staffers re c...</td>\n",
       "      <td>35326</td>\n",
       "      <td>1</td>\n",
       "    </tr>\n",
       "    <tr>\n",
       "      <th>2</th>\n",
       "      <td>The scary, unimpeachable evidence that climate...</td>\n",
       "      <td>224985</td>\n",
       "      <td>1</td>\n",
       "    </tr>\n",
       "    <tr>\n",
       "      <th>3</th>\n",
       "      <td>@Karoli @morgfair @OsborneInk @dailykos \\nPuti...</td>\n",
       "      <td>476263</td>\n",
       "      <td>1</td>\n",
       "    </tr>\n",
       "    <tr>\n",
       "      <th>4</th>\n",
       "      <td>RT @FakeWillMoore: 'Female orgasms cause globa...</td>\n",
       "      <td>872928</td>\n",
       "      <td>0</td>\n",
       "    </tr>\n",
       "  </tbody>\n",
       "</table>\n",
       "</div>"
      ],
      "text/plain": [
       "                                             message  tweetid  sentiment\n",
       "0  Europe will now be looking to China to make su...   169760          1\n",
       "1  Combine this with the polling of staffers re c...    35326          1\n",
       "2  The scary, unimpeachable evidence that climate...   224985          1\n",
       "3  @Karoli @morgfair @OsborneInk @dailykos \\nPuti...   476263          1\n",
       "4  RT @FakeWillMoore: 'Female orgasms cause globa...   872928          0"
      ]
     },
     "execution_count": 11,
     "metadata": {},
     "output_type": "execute_result"
    }
   ],
   "source": [
    "test.head()"
   ]
  },
  {
   "cell_type": "markdown",
   "metadata": {
    "papermill": {
     "duration": 0.017787,
     "end_time": "2020-10-13T08:42:46.030380",
     "exception": false,
     "start_time": "2020-10-13T08:42:46.012593",
     "status": "completed"
    },
    "tags": []
   },
   "source": [
    "# **Creating an output csv for submission**"
   ]
  },
  {
   "cell_type": "code",
   "execution_count": 12,
   "metadata": {
    "execution": {
     "iopub.execute_input": "2020-10-13T08:42:46.076241Z",
     "iopub.status.busy": "2020-10-13T08:42:46.075432Z",
     "iopub.status.idle": "2020-10-13T08:42:46.397341Z",
     "shell.execute_reply": "2020-10-13T08:42:46.396660Z"
    },
    "papermill": {
     "duration": 0.348551,
     "end_time": "2020-10-13T08:42:46.397474",
     "exception": false,
     "start_time": "2020-10-13T08:42:46.048923",
     "status": "completed"
    },
    "tags": []
   },
   "outputs": [],
   "source": [
    "test[['tweetid','sentiment']].to_csv('testsubmission.csv', index=False)"
   ]
  }
 ],
 "metadata": {
  "kernelspec": {
   "display_name": "Python 3",
   "language": "python",
   "name": "python3"
  },
  "language_info": {
   "codemirror_mode": {
    "name": "ipython",
    "version": 3
   },
   "file_extension": ".py",
   "mimetype": "text/x-python",
   "name": "python",
   "nbconvert_exporter": "python",
   "pygments_lexer": "ipython3",
   "version": "3.7.6"
  },
  "papermill": {
   "duration": 48.836742,
   "end_time": "2020-10-13T08:42:46.524246",
   "environment_variables": {},
   "exception": null,
   "input_path": "__notebook__.ipynb",
   "output_path": "__notebook__.ipynb",
   "parameters": {},
   "start_time": "2020-10-13T08:41:57.687504",
   "version": "2.1.0"
  }
 },
 "nbformat": 4,
 "nbformat_minor": 4
}
