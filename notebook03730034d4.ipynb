{
 "cells": [
  {
   "cell_type": "markdown",
   "metadata": {
    "papermill": {
     "duration": 0.019376,
     "end_time": "2020-10-18T16:24:31.569358",
     "exception": false,
     "start_time": "2020-10-18T16:24:31.549982",
     "status": "completed"
    },
    "tags": []
   },
   "source": [
    "# **Import necessary libraries**"
   ]
  },
  {
   "cell_type": "code",
   "execution_count": 1,
   "metadata": {
    "_cell_guid": "79c7e3d0-c299-4dcb-8224-4455121ee9b0",
    "_uuid": "d629ff2d2480ee46fbb7e2d37f6b5fab8052498a",
    "execution": {
     "iopub.execute_input": "2020-10-18T16:24:31.620955Z",
     "iopub.status.busy": "2020-10-18T16:24:31.620187Z",
     "iopub.status.idle": "2020-10-18T16:24:33.803801Z",
     "shell.execute_reply": "2020-10-18T16:24:33.802983Z"
    },
    "papermill": {
     "duration": 2.217064,
     "end_time": "2020-10-18T16:24:33.803927",
     "exception": false,
     "start_time": "2020-10-18T16:24:31.586863",
     "status": "completed"
    },
    "tags": []
   },
   "outputs": [],
   "source": [
    "# Standard packages\n",
    "import numpy as np\n",
    "import pandas as pd\n",
    "import matplotlib.pyplot as plt\n",
    "import seaborn as sns\n",
    "%matplotlib inline\n",
    "from gensim.parsing.preprocessing import remove_stopwords\n",
    "\n",
    "# nltk for preprocessing of text data\n",
    "import nltk\n",
    "import string\n",
    "import re\n",
    "from nltk.tokenize import sent_tokenize, word_tokenize\n",
    "from nltk.corpus import stopwords\n",
    "from nltk.stem import WordNetLemmatizer\n",
    "from nltk import TreebankWordTokenizer, SnowballStemmer\n",
    "\n",
    "# sklearn for preprocessing and machine learning models\n",
    "from sklearn.feature_extraction.text import TfidfVectorizer\n",
    "from sklearn.model_selection import GridSearchCV\n",
    "from sklearn.linear_model import LogisticRegression\n",
    "from sklearn.neighbors import KNeighborsClassifier\n",
    "from sklearn.naive_bayes import GaussianNB\n",
    "from sklearn.naive_bayes import MultinomialNB\n",
    "from sklearn.ensemble import RandomForestClassifier, AdaBoostClassifier\n",
    "from sklearn.svm import SVC\n",
    "from sklearn.model_selection import train_test_split\n",
    "from sklearn.metrics import f1_score"
   ]
  },
  {
   "cell_type": "markdown",
   "metadata": {
    "papermill": {
     "duration": 0.017097,
     "end_time": "2020-10-18T16:24:33.838824",
     "exception": false,
     "start_time": "2020-10-18T16:24:33.821727",
     "status": "completed"
    },
    "tags": []
   },
   "source": [
    "# **Load data**"
   ]
  },
  {
   "cell_type": "code",
   "execution_count": 2,
   "metadata": {
    "execution": {
     "iopub.execute_input": "2020-10-18T16:24:33.886070Z",
     "iopub.status.busy": "2020-10-18T16:24:33.885328Z",
     "iopub.status.idle": "2020-10-18T16:24:33.997989Z",
     "shell.execute_reply": "2020-10-18T16:24:33.998617Z"
    },
    "papermill": {
     "duration": 0.142523,
     "end_time": "2020-10-18T16:24:33.998776",
     "exception": false,
     "start_time": "2020-10-18T16:24:33.856253",
     "status": "completed"
    },
    "tags": []
   },
   "outputs": [
    {
     "data": {
      "text/html": [
       "<div>\n",
       "<style scoped>\n",
       "    .dataframe tbody tr th:only-of-type {\n",
       "        vertical-align: middle;\n",
       "    }\n",
       "\n",
       "    .dataframe tbody tr th {\n",
       "        vertical-align: top;\n",
       "    }\n",
       "\n",
       "    .dataframe thead th {\n",
       "        text-align: right;\n",
       "    }\n",
       "</style>\n",
       "<table border=\"1\" class=\"dataframe\">\n",
       "  <thead>\n",
       "    <tr style=\"text-align: right;\">\n",
       "      <th></th>\n",
       "      <th>sentiment</th>\n",
       "      <th>message</th>\n",
       "      <th>tweetid</th>\n",
       "    </tr>\n",
       "  </thead>\n",
       "  <tbody>\n",
       "    <tr>\n",
       "      <th>0</th>\n",
       "      <td>1</td>\n",
       "      <td>PolySciMajor EPA chief doesn't think carbon di...</td>\n",
       "      <td>625221</td>\n",
       "    </tr>\n",
       "    <tr>\n",
       "      <th>1</th>\n",
       "      <td>1</td>\n",
       "      <td>It's not like we lack evidence of anthropogeni...</td>\n",
       "      <td>126103</td>\n",
       "    </tr>\n",
       "    <tr>\n",
       "      <th>2</th>\n",
       "      <td>2</td>\n",
       "      <td>RT @RawStory: Researchers say we have three ye...</td>\n",
       "      <td>698562</td>\n",
       "    </tr>\n",
       "    <tr>\n",
       "      <th>3</th>\n",
       "      <td>1</td>\n",
       "      <td>#TodayinMaker# WIRED : 2016 was a pivotal year...</td>\n",
       "      <td>573736</td>\n",
       "    </tr>\n",
       "    <tr>\n",
       "      <th>4</th>\n",
       "      <td>1</td>\n",
       "      <td>RT @SoyNovioDeTodas: It's 2016, and a racist, ...</td>\n",
       "      <td>466954</td>\n",
       "    </tr>\n",
       "  </tbody>\n",
       "</table>\n",
       "</div>"
      ],
      "text/plain": [
       "   sentiment                                            message  tweetid\n",
       "0          1  PolySciMajor EPA chief doesn't think carbon di...   625221\n",
       "1          1  It's not like we lack evidence of anthropogeni...   126103\n",
       "2          2  RT @RawStory: Researchers say we have three ye...   698562\n",
       "3          1  #TodayinMaker# WIRED : 2016 was a pivotal year...   573736\n",
       "4          1  RT @SoyNovioDeTodas: It's 2016, and a racist, ...   466954"
      ]
     },
     "execution_count": 2,
     "metadata": {},
     "output_type": "execute_result"
    }
   ],
   "source": [
    "train = pd.read_csv('../input/climate-change-edsa2020-21/train.csv')\n",
    "test = pd.read_csv('../input/climate-change-edsa2020-21/test.csv')\n",
    "train.head()"
   ]
  },
  {
   "cell_type": "markdown",
   "metadata": {
    "papermill": {
     "duration": 0.018293,
     "end_time": "2020-10-18T16:24:34.037625",
     "exception": false,
     "start_time": "2020-10-18T16:24:34.019332",
     "status": "completed"
    },
    "tags": []
   },
   "source": [
    "# **Preprocessing**"
   ]
  },
  {
   "cell_type": "code",
   "execution_count": 3,
   "metadata": {
    "execution": {
     "iopub.execute_input": "2020-10-18T16:24:34.081967Z",
     "iopub.status.busy": "2020-10-18T16:24:34.081233Z",
     "iopub.status.idle": "2020-10-18T16:24:34.662216Z",
     "shell.execute_reply": "2020-10-18T16:24:34.661457Z"
    },
    "papermill": {
     "duration": 0.606044,
     "end_time": "2020-10-18T16:24:34.662342",
     "exception": false,
     "start_time": "2020-10-18T16:24:34.056298",
     "status": "completed"
    },
    "tags": []
   },
   "outputs": [
    {
     "data": {
      "text/html": [
       "<div>\n",
       "<style scoped>\n",
       "    .dataframe tbody tr th:only-of-type {\n",
       "        vertical-align: middle;\n",
       "    }\n",
       "\n",
       "    .dataframe tbody tr th {\n",
       "        vertical-align: top;\n",
       "    }\n",
       "\n",
       "    .dataframe thead th {\n",
       "        text-align: right;\n",
       "    }\n",
       "</style>\n",
       "<table border=\"1\" class=\"dataframe\">\n",
       "  <thead>\n",
       "    <tr style=\"text-align: right;\">\n",
       "      <th></th>\n",
       "      <th>sentiment</th>\n",
       "      <th>message</th>\n",
       "      <th>tweetid</th>\n",
       "    </tr>\n",
       "  </thead>\n",
       "  <tbody>\n",
       "    <tr>\n",
       "      <th>0</th>\n",
       "      <td>1</td>\n",
       "      <td>PolySciMajor EPA chief doesn't think carbon di...</td>\n",
       "      <td>625221</td>\n",
       "    </tr>\n",
       "    <tr>\n",
       "      <th>1</th>\n",
       "      <td>1</td>\n",
       "      <td>It's like lack evidence anthropogenic global w...</td>\n",
       "      <td>126103</td>\n",
       "    </tr>\n",
       "    <tr>\n",
       "      <th>2</th>\n",
       "      <td>2</td>\n",
       "      <td>RT @RawStory: Researchers years act climate ch...</td>\n",
       "      <td>698562</td>\n",
       "    </tr>\n",
       "    <tr>\n",
       "      <th>3</th>\n",
       "      <td>1</td>\n",
       "      <td>#TodayinMaker# WIRED : 2016 pivotal year war c...</td>\n",
       "      <td>573736</td>\n",
       "    </tr>\n",
       "    <tr>\n",
       "      <th>4</th>\n",
       "      <td>1</td>\n",
       "      <td>RT @SoyNovioDeTodas: It's 2016, racist, sexist...</td>\n",
       "      <td>466954</td>\n",
       "    </tr>\n",
       "  </tbody>\n",
       "</table>\n",
       "</div>"
      ],
      "text/plain": [
       "   sentiment                                            message  tweetid\n",
       "0          1  PolySciMajor EPA chief doesn't think carbon di...   625221\n",
       "1          1  It's like lack evidence anthropogenic global w...   126103\n",
       "2          2  RT @RawStory: Researchers years act climate ch...   698562\n",
       "3          1  #TodayinMaker# WIRED : 2016 pivotal year war c...   573736\n",
       "4          1  RT @SoyNovioDeTodas: It's 2016, racist, sexist...   466954"
      ]
     },
     "execution_count": 3,
     "metadata": {},
     "output_type": "execute_result"
    }
   ],
   "source": [
    "# Remove stopwords\n",
    "\n",
    "def stopword_removal(row):\n",
    "    message = row['message']\n",
    "    message = remove_stopwords(message)\n",
    "    return message\n",
    "\n",
    "train['message'] = train.apply(stopword_removal, axis=1)\n",
    "test['message'] = test.apply(stopword_removal, axis=1)\n",
    "\n",
    "train.head()"
   ]
  },
  {
   "cell_type": "markdown",
   "metadata": {
    "papermill": {
     "duration": 0.018685,
     "end_time": "2020-10-18T16:24:34.699982",
     "exception": false,
     "start_time": "2020-10-18T16:24:34.681297",
     "status": "completed"
    },
    "tags": []
   },
   "source": [
    "**Creating a bag of words and assigning our stemmer and lemmatizer**"
   ]
  },
  {
   "cell_type": "code",
   "execution_count": 4,
   "metadata": {
    "execution": {
     "iopub.execute_input": "2020-10-18T16:24:34.761390Z",
     "iopub.status.busy": "2020-10-18T16:24:34.747901Z",
     "iopub.status.idle": "2020-10-18T16:24:35.192954Z",
     "shell.execute_reply": "2020-10-18T16:24:35.191831Z"
    },
    "papermill": {
     "duration": 0.473463,
     "end_time": "2020-10-18T16:24:35.193135",
     "exception": false,
     "start_time": "2020-10-18T16:24:34.719672",
     "status": "completed"
    },
    "tags": []
   },
   "outputs": [
    {
     "data": {
      "text/html": [
       "<div>\n",
       "<style scoped>\n",
       "    .dataframe tbody tr th:only-of-type {\n",
       "        vertical-align: middle;\n",
       "    }\n",
       "\n",
       "    .dataframe tbody tr th {\n",
       "        vertical-align: top;\n",
       "    }\n",
       "\n",
       "    .dataframe thead th {\n",
       "        text-align: right;\n",
       "    }\n",
       "</style>\n",
       "<table border=\"1\" class=\"dataframe\">\n",
       "  <thead>\n",
       "    <tr style=\"text-align: right;\">\n",
       "      <th></th>\n",
       "      <th>message</th>\n",
       "      <th>tweetid</th>\n",
       "    </tr>\n",
       "  </thead>\n",
       "  <tbody>\n",
       "    <tr>\n",
       "      <th>0</th>\n",
       "      <td>europe looking china sure fighting climate cha...</td>\n",
       "      <td>169760</td>\n",
       "    </tr>\n",
       "    <tr>\n",
       "      <th>1</th>\n",
       "      <td>combine polling staffers climate change womens...</td>\n",
       "      <td>35326</td>\n",
       "    </tr>\n",
       "    <tr>\n",
       "      <th>2</th>\n",
       "      <td>the scary unimpeachable evidence climate chang...</td>\n",
       "      <td>224985</td>\n",
       "    </tr>\n",
       "    <tr>\n",
       "      <th>3</th>\n",
       "      <td>karoli morgfair osborneink dailykos putin got...</td>\n",
       "      <td>476263</td>\n",
       "    </tr>\n",
       "    <tr>\n",
       "      <th>4</th>\n",
       "      <td>rt fakewillmoore female orgasms cause global w...</td>\n",
       "      <td>872928</td>\n",
       "    </tr>\n",
       "  </tbody>\n",
       "</table>\n",
       "</div>"
      ],
      "text/plain": [
       "                                             message  tweetid\n",
       "0  europe looking china sure fighting climate cha...   169760\n",
       "1  combine polling staffers climate change womens...    35326\n",
       "2  the scary unimpeachable evidence climate chang...   224985\n",
       "3   karoli morgfair osborneink dailykos putin got...   476263\n",
       "4  rt fakewillmoore female orgasms cause global w...   872928"
      ]
     },
     "execution_count": 4,
     "metadata": {},
     "output_type": "execute_result"
    }
   ],
   "source": [
    "# Remove extra white spaces, punctuation and apply lower casing\n",
    "\n",
    "train['message'] = train['message'].str.lower().str.replace('[^\\w\\s]',' ').str.replace('\\s\\s+', ' ')\n",
    "test['message'] = test['message'].str.lower().str.replace('[^\\w\\s]',' ').str.replace('\\s\\s+', ' ')\n",
    "test.head()"
   ]
  },
  {
   "cell_type": "markdown",
   "metadata": {
    "papermill": {
     "duration": 0.019457,
     "end_time": "2020-10-18T16:24:35.239991",
     "exception": false,
     "start_time": "2020-10-18T16:24:35.220534",
     "status": "completed"
    },
    "tags": []
   },
   "source": [
    "# **Split data to X and y variables**"
   ]
  },
  {
   "cell_type": "code",
   "execution_count": 5,
   "metadata": {
    "execution": {
     "iopub.execute_input": "2020-10-18T16:24:35.285850Z",
     "iopub.status.busy": "2020-10-18T16:24:35.284770Z",
     "iopub.status.idle": "2020-10-18T16:24:35.287760Z",
     "shell.execute_reply": "2020-10-18T16:24:35.288394Z"
    },
    "papermill": {
     "duration": 0.028631,
     "end_time": "2020-10-18T16:24:35.288558",
     "exception": false,
     "start_time": "2020-10-18T16:24:35.259927",
     "status": "completed"
    },
    "tags": []
   },
   "outputs": [],
   "source": [
    "y = train['sentiment']\n",
    "X = train['message']"
   ]
  },
  {
   "cell_type": "markdown",
   "metadata": {
    "papermill": {
     "duration": 0.019832,
     "end_time": "2020-10-18T16:24:35.328408",
     "exception": false,
     "start_time": "2020-10-18T16:24:35.308576",
     "status": "completed"
    },
    "tags": []
   },
   "source": [
    "# **Turning text into something your model can read**"
   ]
  },
  {
   "cell_type": "code",
   "execution_count": 6,
   "metadata": {
    "execution": {
     "iopub.execute_input": "2020-10-18T16:24:35.405213Z",
     "iopub.status.busy": "2020-10-18T16:24:35.400106Z",
     "iopub.status.idle": "2020-10-18T16:24:36.516581Z",
     "shell.execute_reply": "2020-10-18T16:24:36.515949Z"
    },
    "papermill": {
     "duration": 1.168153,
     "end_time": "2020-10-18T16:24:36.516713",
     "exception": false,
     "start_time": "2020-10-18T16:24:35.348560",
     "status": "completed"
    },
    "tags": []
   },
   "outputs": [],
   "source": [
    "vectorizer = TfidfVectorizer(strip_accents='unicode', ngram_range=(1, 2), min_df=2, sublinear_tf=True)\n",
    "X_vectorized = vectorizer.fit_transform(X)"
   ]
  },
  {
   "cell_type": "markdown",
   "metadata": {
    "papermill": {
     "duration": 0.019896,
     "end_time": "2020-10-18T16:24:36.556805",
     "exception": false,
     "start_time": "2020-10-18T16:24:36.536909",
     "status": "completed"
    },
    "tags": []
   },
   "source": [
    "# Splitting the training data into a training and validation set"
   ]
  },
  {
   "cell_type": "code",
   "execution_count": 7,
   "metadata": {
    "execution": {
     "iopub.execute_input": "2020-10-18T16:24:36.607328Z",
     "iopub.status.busy": "2020-10-18T16:24:36.606554Z",
     "iopub.status.idle": "2020-10-18T16:24:36.626177Z",
     "shell.execute_reply": "2020-10-18T16:24:36.626739Z"
    },
    "papermill": {
     "duration": 0.050222,
     "end_time": "2020-10-18T16:24:36.626897",
     "exception": false,
     "start_time": "2020-10-18T16:24:36.576675",
     "status": "completed"
    },
    "tags": []
   },
   "outputs": [],
   "source": [
    "X_train,X_val,y_train,y_val = train_test_split(X_vectorized,y,test_size=0.1,shuffle=True, \n",
    "                                                stratify=y, random_state=32)"
   ]
  },
  {
   "cell_type": "markdown",
   "metadata": {
    "papermill": {
     "duration": 0.019672,
     "end_time": "2020-10-18T16:24:36.667110",
     "exception": false,
     "start_time": "2020-10-18T16:24:36.647438",
     "status": "completed"
    },
    "tags": []
   },
   "source": [
    "# **Training the model and evaluating using the validation set**"
   ]
  },
  {
   "cell_type": "code",
   "execution_count": 8,
   "metadata": {
    "execution": {
     "iopub.execute_input": "2020-10-18T16:24:36.714065Z",
     "iopub.status.busy": "2020-10-18T16:24:36.713017Z",
     "iopub.status.idle": "2020-10-18T16:25:12.638743Z",
     "shell.execute_reply": "2020-10-18T16:25:12.637938Z"
    },
    "papermill": {
     "duration": 35.951329,
     "end_time": "2020-10-18T16:25:12.638861",
     "exception": false,
     "start_time": "2020-10-18T16:24:36.687532",
     "status": "completed"
    },
    "tags": []
   },
   "outputs": [],
   "source": [
    "svc = SVC(kernel=\"linear\")\n",
    "svc.fit(X_train,y_train)\n",
    "svc_pred = svc.predict(X_val)"
   ]
  },
  {
   "cell_type": "code",
   "execution_count": 9,
   "metadata": {
    "execution": {
     "iopub.execute_input": "2020-10-18T16:25:12.686338Z",
     "iopub.status.busy": "2020-10-18T16:25:12.685573Z",
     "iopub.status.idle": "2020-10-18T16:25:12.692692Z",
     "shell.execute_reply": "2020-10-18T16:25:12.692058Z"
    },
    "papermill": {
     "duration": 0.032702,
     "end_time": "2020-10-18T16:25:12.692809",
     "exception": false,
     "start_time": "2020-10-18T16:25:12.660107",
     "status": "completed"
    },
    "tags": []
   },
   "outputs": [
    {
     "data": {
      "text/plain": [
       "0.6951820656990406"
      ]
     },
     "execution_count": 9,
     "metadata": {},
     "output_type": "execute_result"
    }
   ],
   "source": [
    "f1_score(y_val, svc_pred, average=\"macro\")"
   ]
  },
  {
   "cell_type": "markdown",
   "metadata": {
    "papermill": {
     "duration": 0.020971,
     "end_time": "2020-10-18T16:25:12.735448",
     "exception": false,
     "start_time": "2020-10-18T16:25:12.714477",
     "status": "completed"
    },
    "tags": []
   },
   "source": [
    "# **Getting our test set ready**"
   ]
  },
  {
   "cell_type": "code",
   "execution_count": 10,
   "metadata": {
    "execution": {
     "iopub.execute_input": "2020-10-18T16:25:12.827429Z",
     "iopub.status.busy": "2020-10-18T16:25:12.817097Z",
     "iopub.status.idle": "2020-10-18T16:25:13.327321Z",
     "shell.execute_reply": "2020-10-18T16:25:13.326589Z"
    },
    "papermill": {
     "duration": 0.571244,
     "end_time": "2020-10-18T16:25:13.327452",
     "exception": false,
     "start_time": "2020-10-18T16:25:12.756208",
     "status": "completed"
    },
    "tags": []
   },
   "outputs": [],
   "source": [
    "testx = test['message']\n",
    "test_vect = vectorizer.transform(testx)"
   ]
  },
  {
   "cell_type": "markdown",
   "metadata": {
    "papermill": {
     "duration": 0.020728,
     "end_time": "2020-10-18T16:25:13.369382",
     "exception": false,
     "start_time": "2020-10-18T16:25:13.348654",
     "status": "completed"
    },
    "tags": []
   },
   "source": [
    "# **Making predictions on the test set and adding a sentiment column to our original test df**"
   ]
  },
  {
   "cell_type": "code",
   "execution_count": 11,
   "metadata": {
    "execution": {
     "iopub.execute_input": "2020-10-18T16:25:13.417033Z",
     "iopub.status.busy": "2020-10-18T16:25:13.416310Z",
     "iopub.status.idle": "2020-10-18T16:25:30.682905Z",
     "shell.execute_reply": "2020-10-18T16:25:30.682301Z"
    },
    "papermill": {
     "duration": 17.292479,
     "end_time": "2020-10-18T16:25:30.683033",
     "exception": false,
     "start_time": "2020-10-18T16:25:13.390554",
     "status": "completed"
    },
    "tags": []
   },
   "outputs": [],
   "source": [
    "y_pred = svc.predict(test_vect)"
   ]
  },
  {
   "cell_type": "code",
   "execution_count": 12,
   "metadata": {
    "execution": {
     "iopub.execute_input": "2020-10-18T16:25:30.732821Z",
     "iopub.status.busy": "2020-10-18T16:25:30.731674Z",
     "iopub.status.idle": "2020-10-18T16:25:30.735113Z",
     "shell.execute_reply": "2020-10-18T16:25:30.734535Z"
    },
    "papermill": {
     "duration": 0.030729,
     "end_time": "2020-10-18T16:25:30.735260",
     "exception": false,
     "start_time": "2020-10-18T16:25:30.704531",
     "status": "completed"
    },
    "tags": []
   },
   "outputs": [],
   "source": [
    "test['sentiment'] = y_pred"
   ]
  },
  {
   "cell_type": "code",
   "execution_count": 13,
   "metadata": {
    "execution": {
     "iopub.execute_input": "2020-10-18T16:25:30.790255Z",
     "iopub.status.busy": "2020-10-18T16:25:30.789119Z",
     "iopub.status.idle": "2020-10-18T16:25:30.793409Z",
     "shell.execute_reply": "2020-10-18T16:25:30.792701Z"
    },
    "papermill": {
     "duration": 0.036108,
     "end_time": "2020-10-18T16:25:30.793538",
     "exception": false,
     "start_time": "2020-10-18T16:25:30.757430",
     "status": "completed"
    },
    "tags": []
   },
   "outputs": [
    {
     "data": {
      "text/html": [
       "<div>\n",
       "<style scoped>\n",
       "    .dataframe tbody tr th:only-of-type {\n",
       "        vertical-align: middle;\n",
       "    }\n",
       "\n",
       "    .dataframe tbody tr th {\n",
       "        vertical-align: top;\n",
       "    }\n",
       "\n",
       "    .dataframe thead th {\n",
       "        text-align: right;\n",
       "    }\n",
       "</style>\n",
       "<table border=\"1\" class=\"dataframe\">\n",
       "  <thead>\n",
       "    <tr style=\"text-align: right;\">\n",
       "      <th></th>\n",
       "      <th>message</th>\n",
       "      <th>tweetid</th>\n",
       "      <th>sentiment</th>\n",
       "    </tr>\n",
       "  </thead>\n",
       "  <tbody>\n",
       "    <tr>\n",
       "      <th>0</th>\n",
       "      <td>europe looking china sure fighting climate cha...</td>\n",
       "      <td>169760</td>\n",
       "      <td>2</td>\n",
       "    </tr>\n",
       "    <tr>\n",
       "      <th>1</th>\n",
       "      <td>combine polling staffers climate change womens...</td>\n",
       "      <td>35326</td>\n",
       "      <td>1</td>\n",
       "    </tr>\n",
       "    <tr>\n",
       "      <th>2</th>\n",
       "      <td>the scary unimpeachable evidence climate chang...</td>\n",
       "      <td>224985</td>\n",
       "      <td>1</td>\n",
       "    </tr>\n",
       "    <tr>\n",
       "      <th>3</th>\n",
       "      <td>karoli morgfair osborneink dailykos putin got...</td>\n",
       "      <td>476263</td>\n",
       "      <td>1</td>\n",
       "    </tr>\n",
       "    <tr>\n",
       "      <th>4</th>\n",
       "      <td>rt fakewillmoore female orgasms cause global w...</td>\n",
       "      <td>872928</td>\n",
       "      <td>0</td>\n",
       "    </tr>\n",
       "  </tbody>\n",
       "</table>\n",
       "</div>"
      ],
      "text/plain": [
       "                                             message  tweetid  sentiment\n",
       "0  europe looking china sure fighting climate cha...   169760          2\n",
       "1  combine polling staffers climate change womens...    35326          1\n",
       "2  the scary unimpeachable evidence climate chang...   224985          1\n",
       "3   karoli morgfair osborneink dailykos putin got...   476263          1\n",
       "4  rt fakewillmoore female orgasms cause global w...   872928          0"
      ]
     },
     "execution_count": 13,
     "metadata": {},
     "output_type": "execute_result"
    }
   ],
   "source": [
    "test.head()"
   ]
  },
  {
   "cell_type": "markdown",
   "metadata": {
    "papermill": {
     "duration": 0.021628,
     "end_time": "2020-10-18T16:25:30.837625",
     "exception": false,
     "start_time": "2020-10-18T16:25:30.815997",
     "status": "completed"
    },
    "tags": []
   },
   "source": [
    "# **Creating an output csv for submission**"
   ]
  },
  {
   "cell_type": "code",
   "execution_count": 14,
   "metadata": {
    "execution": {
     "iopub.execute_input": "2020-10-18T16:25:30.891067Z",
     "iopub.status.busy": "2020-10-18T16:25:30.888712Z",
     "iopub.status.idle": "2020-10-18T16:25:31.251789Z",
     "shell.execute_reply": "2020-10-18T16:25:31.251090Z"
    },
    "papermill": {
     "duration": 0.392232,
     "end_time": "2020-10-18T16:25:31.251929",
     "exception": false,
     "start_time": "2020-10-18T16:25:30.859697",
     "status": "completed"
    },
    "tags": []
   },
   "outputs": [],
   "source": [
    "test[['tweetid','sentiment']].to_csv('testsubmission.csv', index=False)"
   ]
  }
 ],
 "metadata": {
  "kernelspec": {
   "display_name": "Python 3",
   "language": "python",
   "name": "python3"
  },
  "language_info": {
   "codemirror_mode": {
    "name": "ipython",
    "version": 3
   },
   "file_extension": ".py",
   "mimetype": "text/x-python",
   "name": "python",
   "nbconvert_exporter": "python",
   "pygments_lexer": "ipython3",
   "version": "3.7.6"
  },
  "papermill": {
   "duration": 64.496026,
   "end_time": "2020-10-18T16:25:31.382210",
   "environment_variables": {},
   "exception": null,
   "input_path": "__notebook__.ipynb",
   "output_path": "__notebook__.ipynb",
   "parameters": {},
   "start_time": "2020-10-18T16:24:26.886184",
   "version": "2.1.0"
  }
 },
 "nbformat": 4,
 "nbformat_minor": 4
}
