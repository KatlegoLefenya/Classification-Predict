{
 "cells": [
  {
   "cell_type": "markdown",
   "metadata": {
    "papermill": {
     "duration": 0.013718,
     "end_time": "2020-10-18T15:42:23.302672",
     "exception": false,
     "start_time": "2020-10-18T15:42:23.288954",
     "status": "completed"
    },
    "tags": []
   },
   "source": [
    "# **Import necessary libraries**"
   ]
  },
  {
   "cell_type": "code",
   "execution_count": 1,
   "metadata": {
    "_cell_guid": "79c7e3d0-c299-4dcb-8224-4455121ee9b0",
    "_uuid": "d629ff2d2480ee46fbb7e2d37f6b5fab8052498a",
    "execution": {
     "iopub.execute_input": "2020-10-18T15:42:23.339931Z",
     "iopub.status.busy": "2020-10-18T15:42:23.339199Z",
     "iopub.status.idle": "2020-10-18T15:42:25.115126Z",
     "shell.execute_reply": "2020-10-18T15:42:25.114495Z"
    },
    "papermill": {
     "duration": 1.800055,
     "end_time": "2020-10-18T15:42:25.115292",
     "exception": false,
     "start_time": "2020-10-18T15:42:23.315237",
     "status": "completed"
    },
    "tags": []
   },
   "outputs": [],
   "source": [
    "# Standard packages\n",
    "import numpy as np\n",
    "import pandas as pd\n",
    "import matplotlib.pyplot as plt\n",
    "import seaborn as sns\n",
    "%matplotlib inline\n",
    "from gensim.parsing.preprocessing import remove_stopwords\n",
    "\n",
    "# nltk for preprocessing of text data\n",
    "import nltk\n",
    "import string\n",
    "import re\n",
    "from nltk.tokenize import sent_tokenize, word_tokenize\n",
    "from nltk.corpus import stopwords\n",
    "from nltk.stem import WordNetLemmatizer\n",
    "from nltk import TreebankWordTokenizer, SnowballStemmer\n",
    "\n",
    "# sklearn for preprocessing and machine learning models\n",
    "from sklearn.feature_extraction.text import TfidfVectorizer\n",
    "from sklearn.model_selection import GridSearchCV\n",
    "from sklearn.linear_model import LogisticRegression\n",
    "from sklearn.neighbors import KNeighborsClassifier\n",
    "from sklearn.naive_bayes import GaussianNB\n",
    "from sklearn.naive_bayes import MultinomialNB\n",
    "from sklearn.ensemble import RandomForestClassifier, AdaBoostClassifier\n",
    "from sklearn.svm import SVC\n",
    "from sklearn.model_selection import train_test_split\n",
    "from sklearn.metrics import f1_score"
   ]
  },
  {
   "cell_type": "markdown",
   "metadata": {
    "papermill": {
     "duration": 0.011716,
     "end_time": "2020-10-18T15:42:25.139305",
     "exception": false,
     "start_time": "2020-10-18T15:42:25.127589",
     "status": "completed"
    },
    "tags": []
   },
   "source": [
    "# **Load data**"
   ]
  },
  {
   "cell_type": "code",
   "execution_count": 2,
   "metadata": {
    "execution": {
     "iopub.execute_input": "2020-10-18T15:42:25.174689Z",
     "iopub.status.busy": "2020-10-18T15:42:25.174025Z",
     "iopub.status.idle": "2020-10-18T15:42:25.273119Z",
     "shell.execute_reply": "2020-10-18T15:42:25.273650Z"
    },
    "papermill": {
     "duration": 0.122458,
     "end_time": "2020-10-18T15:42:25.273790",
     "exception": false,
     "start_time": "2020-10-18T15:42:25.151332",
     "status": "completed"
    },
    "tags": []
   },
   "outputs": [
    {
     "data": {
      "text/html": [
       "<div>\n",
       "<style scoped>\n",
       "    .dataframe tbody tr th:only-of-type {\n",
       "        vertical-align: middle;\n",
       "    }\n",
       "\n",
       "    .dataframe tbody tr th {\n",
       "        vertical-align: top;\n",
       "    }\n",
       "\n",
       "    .dataframe thead th {\n",
       "        text-align: right;\n",
       "    }\n",
       "</style>\n",
       "<table border=\"1\" class=\"dataframe\">\n",
       "  <thead>\n",
       "    <tr style=\"text-align: right;\">\n",
       "      <th></th>\n",
       "      <th>sentiment</th>\n",
       "      <th>message</th>\n",
       "      <th>tweetid</th>\n",
       "    </tr>\n",
       "  </thead>\n",
       "  <tbody>\n",
       "    <tr>\n",
       "      <th>0</th>\n",
       "      <td>1</td>\n",
       "      <td>PolySciMajor EPA chief doesn't think carbon di...</td>\n",
       "      <td>625221</td>\n",
       "    </tr>\n",
       "    <tr>\n",
       "      <th>1</th>\n",
       "      <td>1</td>\n",
       "      <td>It's not like we lack evidence of anthropogeni...</td>\n",
       "      <td>126103</td>\n",
       "    </tr>\n",
       "    <tr>\n",
       "      <th>2</th>\n",
       "      <td>2</td>\n",
       "      <td>RT @RawStory: Researchers say we have three ye...</td>\n",
       "      <td>698562</td>\n",
       "    </tr>\n",
       "    <tr>\n",
       "      <th>3</th>\n",
       "      <td>1</td>\n",
       "      <td>#TodayinMaker# WIRED : 2016 was a pivotal year...</td>\n",
       "      <td>573736</td>\n",
       "    </tr>\n",
       "    <tr>\n",
       "      <th>4</th>\n",
       "      <td>1</td>\n",
       "      <td>RT @SoyNovioDeTodas: It's 2016, and a racist, ...</td>\n",
       "      <td>466954</td>\n",
       "    </tr>\n",
       "  </tbody>\n",
       "</table>\n",
       "</div>"
      ],
      "text/plain": [
       "   sentiment                                            message  tweetid\n",
       "0          1  PolySciMajor EPA chief doesn't think carbon di...   625221\n",
       "1          1  It's not like we lack evidence of anthropogeni...   126103\n",
       "2          2  RT @RawStory: Researchers say we have three ye...   698562\n",
       "3          1  #TodayinMaker# WIRED : 2016 was a pivotal year...   573736\n",
       "4          1  RT @SoyNovioDeTodas: It's 2016, and a racist, ...   466954"
      ]
     },
     "execution_count": 2,
     "metadata": {},
     "output_type": "execute_result"
    }
   ],
   "source": [
    "train = pd.read_csv('../input/climate-change-edsa2020-21/train.csv')\n",
    "test = pd.read_csv('../input/climate-change-edsa2020-21/test.csv')\n",
    "train.head()"
   ]
  },
  {
   "cell_type": "markdown",
   "metadata": {
    "papermill": {
     "duration": 0.012125,
     "end_time": "2020-10-18T15:42:25.300290",
     "exception": false,
     "start_time": "2020-10-18T15:42:25.288165",
     "status": "completed"
    },
    "tags": []
   },
   "source": [
    "# **Preprocessing**"
   ]
  },
  {
   "cell_type": "code",
   "execution_count": 3,
   "metadata": {
    "execution": {
     "iopub.execute_input": "2020-10-18T15:42:25.331573Z",
     "iopub.status.busy": "2020-10-18T15:42:25.330896Z",
     "iopub.status.idle": "2020-10-18T15:42:25.742513Z",
     "shell.execute_reply": "2020-10-18T15:42:25.741976Z"
    },
    "papermill": {
     "duration": 0.429784,
     "end_time": "2020-10-18T15:42:25.742620",
     "exception": false,
     "start_time": "2020-10-18T15:42:25.312836",
     "status": "completed"
    },
    "tags": []
   },
   "outputs": [
    {
     "data": {
      "text/html": [
       "<div>\n",
       "<style scoped>\n",
       "    .dataframe tbody tr th:only-of-type {\n",
       "        vertical-align: middle;\n",
       "    }\n",
       "\n",
       "    .dataframe tbody tr th {\n",
       "        vertical-align: top;\n",
       "    }\n",
       "\n",
       "    .dataframe thead th {\n",
       "        text-align: right;\n",
       "    }\n",
       "</style>\n",
       "<table border=\"1\" class=\"dataframe\">\n",
       "  <thead>\n",
       "    <tr style=\"text-align: right;\">\n",
       "      <th></th>\n",
       "      <th>sentiment</th>\n",
       "      <th>message</th>\n",
       "      <th>tweetid</th>\n",
       "    </tr>\n",
       "  </thead>\n",
       "  <tbody>\n",
       "    <tr>\n",
       "      <th>0</th>\n",
       "      <td>1</td>\n",
       "      <td>PolySciMajor EPA chief doesn't think carbon di...</td>\n",
       "      <td>625221</td>\n",
       "    </tr>\n",
       "    <tr>\n",
       "      <th>1</th>\n",
       "      <td>1</td>\n",
       "      <td>It's like lack evidence anthropogenic global w...</td>\n",
       "      <td>126103</td>\n",
       "    </tr>\n",
       "    <tr>\n",
       "      <th>2</th>\n",
       "      <td>2</td>\n",
       "      <td>RT @RawStory: Researchers years act climate ch...</td>\n",
       "      <td>698562</td>\n",
       "    </tr>\n",
       "    <tr>\n",
       "      <th>3</th>\n",
       "      <td>1</td>\n",
       "      <td>#TodayinMaker# WIRED : 2016 pivotal year war c...</td>\n",
       "      <td>573736</td>\n",
       "    </tr>\n",
       "    <tr>\n",
       "      <th>4</th>\n",
       "      <td>1</td>\n",
       "      <td>RT @SoyNovioDeTodas: It's 2016, racist, sexist...</td>\n",
       "      <td>466954</td>\n",
       "    </tr>\n",
       "  </tbody>\n",
       "</table>\n",
       "</div>"
      ],
      "text/plain": [
       "   sentiment                                            message  tweetid\n",
       "0          1  PolySciMajor EPA chief doesn't think carbon di...   625221\n",
       "1          1  It's like lack evidence anthropogenic global w...   126103\n",
       "2          2  RT @RawStory: Researchers years act climate ch...   698562\n",
       "3          1  #TodayinMaker# WIRED : 2016 pivotal year war c...   573736\n",
       "4          1  RT @SoyNovioDeTodas: It's 2016, racist, sexist...   466954"
      ]
     },
     "execution_count": 3,
     "metadata": {},
     "output_type": "execute_result"
    }
   ],
   "source": [
    "# Remove stopwords\n",
    "\n",
    "def stopword_removal(row):\n",
    "    message = row['message']\n",
    "    message = remove_stopwords(message)\n",
    "    return message\n",
    "\n",
    "train['message'] = train.apply(stopword_removal, axis=1)\n",
    "test['message'] = test.apply(stopword_removal, axis=1)\n",
    "\n",
    "train.head()"
   ]
  },
  {
   "cell_type": "markdown",
   "metadata": {
    "papermill": {
     "duration": 0.013117,
     "end_time": "2020-10-18T15:42:25.769162",
     "exception": false,
     "start_time": "2020-10-18T15:42:25.756045",
     "status": "completed"
    },
    "tags": []
   },
   "source": [
    "**Creating a bag of words and assigning our stemmer and lemmatizer**"
   ]
  },
  {
   "cell_type": "code",
   "execution_count": 4,
   "metadata": {
    "execution": {
     "iopub.execute_input": "2020-10-18T15:42:25.818284Z",
     "iopub.status.busy": "2020-10-18T15:42:25.815168Z",
     "iopub.status.idle": "2020-10-18T15:42:26.058416Z",
     "shell.execute_reply": "2020-10-18T15:42:26.057863Z"
    },
    "papermill": {
     "duration": 0.276052,
     "end_time": "2020-10-18T15:42:26.058542",
     "exception": false,
     "start_time": "2020-10-18T15:42:25.782490",
     "status": "completed"
    },
    "tags": []
   },
   "outputs": [
    {
     "data": {
      "text/html": [
       "<div>\n",
       "<style scoped>\n",
       "    .dataframe tbody tr th:only-of-type {\n",
       "        vertical-align: middle;\n",
       "    }\n",
       "\n",
       "    .dataframe tbody tr th {\n",
       "        vertical-align: top;\n",
       "    }\n",
       "\n",
       "    .dataframe thead th {\n",
       "        text-align: right;\n",
       "    }\n",
       "</style>\n",
       "<table border=\"1\" class=\"dataframe\">\n",
       "  <thead>\n",
       "    <tr style=\"text-align: right;\">\n",
       "      <th></th>\n",
       "      <th>message</th>\n",
       "      <th>tweetid</th>\n",
       "    </tr>\n",
       "  </thead>\n",
       "  <tbody>\n",
       "    <tr>\n",
       "      <th>0</th>\n",
       "      <td>europe looking china sure fighting climate cha...</td>\n",
       "      <td>169760</td>\n",
       "    </tr>\n",
       "    <tr>\n",
       "      <th>1</th>\n",
       "      <td>combine polling staffers climate change womens...</td>\n",
       "      <td>35326</td>\n",
       "    </tr>\n",
       "    <tr>\n",
       "      <th>2</th>\n",
       "      <td>the scary unimpeachable evidence climate chang...</td>\n",
       "      <td>224985</td>\n",
       "    </tr>\n",
       "    <tr>\n",
       "      <th>3</th>\n",
       "      <td>karoli morgfair osborneink dailykos putin got...</td>\n",
       "      <td>476263</td>\n",
       "    </tr>\n",
       "    <tr>\n",
       "      <th>4</th>\n",
       "      <td>rt fakewillmoore female orgasms cause global w...</td>\n",
       "      <td>872928</td>\n",
       "    </tr>\n",
       "  </tbody>\n",
       "</table>\n",
       "</div>"
      ],
      "text/plain": [
       "                                             message  tweetid\n",
       "0  europe looking china sure fighting climate cha...   169760\n",
       "1  combine polling staffers climate change womens...    35326\n",
       "2  the scary unimpeachable evidence climate chang...   224985\n",
       "3   karoli morgfair osborneink dailykos putin got...   476263\n",
       "4  rt fakewillmoore female orgasms cause global w...   872928"
      ]
     },
     "execution_count": 4,
     "metadata": {},
     "output_type": "execute_result"
    }
   ],
   "source": [
    "# Remove extra white spaces, punctuation and apply lower casing\n",
    "\n",
    "train['message'] = train['message'].str.lower().str.replace('[^\\w\\s]',' ').str.replace('\\s\\s+', ' ')\n",
    "test['message'] = test['message'].str.lower().str.replace('[^\\w\\s]',' ').str.replace('\\s\\s+', ' ')\n",
    "test.head()"
   ]
  },
  {
   "cell_type": "markdown",
   "metadata": {
    "papermill": {
     "duration": 0.013474,
     "end_time": "2020-10-18T15:42:26.085978",
     "exception": false,
     "start_time": "2020-10-18T15:42:26.072504",
     "status": "completed"
    },
    "tags": []
   },
   "source": [
    "# **Split data to X and y variables**"
   ]
  },
  {
   "cell_type": "code",
   "execution_count": 5,
   "metadata": {
    "execution": {
     "iopub.execute_input": "2020-10-18T15:42:26.118507Z",
     "iopub.status.busy": "2020-10-18T15:42:26.117844Z",
     "iopub.status.idle": "2020-10-18T15:42:26.120654Z",
     "shell.execute_reply": "2020-10-18T15:42:26.120124Z"
    },
    "papermill": {
     "duration": 0.020921,
     "end_time": "2020-10-18T15:42:26.120758",
     "exception": false,
     "start_time": "2020-10-18T15:42:26.099837",
     "status": "completed"
    },
    "tags": []
   },
   "outputs": [],
   "source": [
    "y = train['sentiment']\n",
    "X = train['message']"
   ]
  },
  {
   "cell_type": "markdown",
   "metadata": {
    "papermill": {
     "duration": 0.013457,
     "end_time": "2020-10-18T15:42:26.148203",
     "exception": false,
     "start_time": "2020-10-18T15:42:26.134746",
     "status": "completed"
    },
    "tags": []
   },
   "source": [
    "# **Turning text into something your model can read**"
   ]
  },
  {
   "cell_type": "code",
   "execution_count": 6,
   "metadata": {
    "execution": {
     "iopub.execute_input": "2020-10-18T15:42:26.210561Z",
     "iopub.status.busy": "2020-10-18T15:42:26.205707Z",
     "iopub.status.idle": "2020-10-18T15:42:26.939722Z",
     "shell.execute_reply": "2020-10-18T15:42:26.939023Z"
    },
    "papermill": {
     "duration": 0.777324,
     "end_time": "2020-10-18T15:42:26.939834",
     "exception": false,
     "start_time": "2020-10-18T15:42:26.162510",
     "status": "completed"
    },
    "tags": []
   },
   "outputs": [],
   "source": [
    "vectorizer = TfidfVectorizer(strip_accents='unicode', ngram_range=(1, 2), min_df=2, sublinear_tf=True)\n",
    "X_vectorized = vectorizer.fit_transform(X)"
   ]
  },
  {
   "cell_type": "markdown",
   "metadata": {
    "papermill": {
     "duration": 0.013421,
     "end_time": "2020-10-18T15:42:26.967683",
     "exception": false,
     "start_time": "2020-10-18T15:42:26.954262",
     "status": "completed"
    },
    "tags": []
   },
   "source": [
    "# Splitting the training data into a training and validation set"
   ]
  },
  {
   "cell_type": "code",
   "execution_count": 7,
   "metadata": {
    "execution": {
     "iopub.execute_input": "2020-10-18T15:42:27.000685Z",
     "iopub.status.busy": "2020-10-18T15:42:27.000042Z",
     "iopub.status.idle": "2020-10-18T15:42:27.013714Z",
     "shell.execute_reply": "2020-10-18T15:42:27.013090Z"
    },
    "papermill": {
     "duration": 0.032508,
     "end_time": "2020-10-18T15:42:27.013822",
     "exception": false,
     "start_time": "2020-10-18T15:42:26.981314",
     "status": "completed"
    },
    "tags": []
   },
   "outputs": [],
   "source": [
    "X_train,X_val,y_train,y_val = train_test_split(X_vectorized,y,test_size=0.2,shuffle=True, \n",
    "                                                stratify=y, random_state=50)"
   ]
  },
  {
   "cell_type": "markdown",
   "metadata": {
    "papermill": {
     "duration": 0.01351,
     "end_time": "2020-10-18T15:42:27.041173",
     "exception": false,
     "start_time": "2020-10-18T15:42:27.027663",
     "status": "completed"
    },
    "tags": []
   },
   "source": [
    "# **Training the model and evaluating using the validation set**"
   ]
  },
  {
   "cell_type": "code",
   "execution_count": 8,
   "metadata": {
    "execution": {
     "iopub.execute_input": "2020-10-18T15:42:27.074115Z",
     "iopub.status.busy": "2020-10-18T15:42:27.073239Z",
     "iopub.status.idle": "2020-10-18T15:42:57.409912Z",
     "shell.execute_reply": "2020-10-18T15:42:57.409284Z"
    },
    "papermill": {
     "duration": 30.355152,
     "end_time": "2020-10-18T15:42:57.410030",
     "exception": false,
     "start_time": "2020-10-18T15:42:27.054878",
     "status": "completed"
    },
    "tags": []
   },
   "outputs": [],
   "source": [
    "svc = SVC(kernel=\"linear\")\n",
    "svc.fit(X_train,y_train)\n",
    "svc_pred = svc.predict(X_val)"
   ]
  },
  {
   "cell_type": "code",
   "execution_count": 9,
   "metadata": {
    "execution": {
     "iopub.execute_input": "2020-10-18T15:42:57.445197Z",
     "iopub.status.busy": "2020-10-18T15:42:57.444242Z",
     "iopub.status.idle": "2020-10-18T15:42:57.451377Z",
     "shell.execute_reply": "2020-10-18T15:42:57.450761Z"
    },
    "papermill": {
     "duration": 0.026844,
     "end_time": "2020-10-18T15:42:57.451493",
     "exception": false,
     "start_time": "2020-10-18T15:42:57.424649",
     "status": "completed"
    },
    "tags": []
   },
   "outputs": [
    {
     "data": {
      "text/plain": [
       "0.665689312506114"
      ]
     },
     "execution_count": 9,
     "metadata": {},
     "output_type": "execute_result"
    }
   ],
   "source": [
    "f1_score(y_val, svc_pred, average=\"macro\")"
   ]
  },
  {
   "cell_type": "markdown",
   "metadata": {
    "papermill": {
     "duration": 0.014435,
     "end_time": "2020-10-18T15:42:57.481032",
     "exception": false,
     "start_time": "2020-10-18T15:42:57.466597",
     "status": "completed"
    },
    "tags": []
   },
   "source": [
    "# **Getting our test set ready**"
   ]
  },
  {
   "cell_type": "code",
   "execution_count": 10,
   "metadata": {
    "execution": {
     "iopub.execute_input": "2020-10-18T15:42:57.539809Z",
     "iopub.status.busy": "2020-10-18T15:42:57.534801Z",
     "iopub.status.idle": "2020-10-18T15:42:57.878525Z",
     "shell.execute_reply": "2020-10-18T15:42:57.877869Z"
    },
    "papermill": {
     "duration": 0.382642,
     "end_time": "2020-10-18T15:42:57.878649",
     "exception": false,
     "start_time": "2020-10-18T15:42:57.496007",
     "status": "completed"
    },
    "tags": []
   },
   "outputs": [],
   "source": [
    "testx = test['message']\n",
    "test_vect = vectorizer.transform(testx)"
   ]
  },
  {
   "cell_type": "markdown",
   "metadata": {
    "papermill": {
     "duration": 0.014525,
     "end_time": "2020-10-18T15:42:57.908172",
     "exception": false,
     "start_time": "2020-10-18T15:42:57.893647",
     "status": "completed"
    },
    "tags": []
   },
   "source": [
    "# **Making predictions on the test set and adding a sentiment column to our original test df**"
   ]
  },
  {
   "cell_type": "code",
   "execution_count": 11,
   "metadata": {
    "execution": {
     "iopub.execute_input": "2020-10-18T15:42:57.942453Z",
     "iopub.status.busy": "2020-10-18T15:42:57.941827Z",
     "iopub.status.idle": "2020-10-18T15:43:12.874457Z",
     "shell.execute_reply": "2020-10-18T15:43:12.873865Z"
    },
    "papermill": {
     "duration": 14.951678,
     "end_time": "2020-10-18T15:43:12.874598",
     "exception": false,
     "start_time": "2020-10-18T15:42:57.922920",
     "status": "completed"
    },
    "tags": []
   },
   "outputs": [],
   "source": [
    "y_pred = svc.predict(test_vect)"
   ]
  },
  {
   "cell_type": "code",
   "execution_count": 12,
   "metadata": {
    "execution": {
     "iopub.execute_input": "2020-10-18T15:43:12.910487Z",
     "iopub.status.busy": "2020-10-18T15:43:12.909818Z",
     "iopub.status.idle": "2020-10-18T15:43:12.912569Z",
     "shell.execute_reply": "2020-10-18T15:43:12.911914Z"
    },
    "papermill": {
     "duration": 0.02291,
     "end_time": "2020-10-18T15:43:12.912690",
     "exception": false,
     "start_time": "2020-10-18T15:43:12.889780",
     "status": "completed"
    },
    "tags": []
   },
   "outputs": [],
   "source": [
    "test['sentiment'] = y_pred"
   ]
  },
  {
   "cell_type": "code",
   "execution_count": 13,
   "metadata": {
    "execution": {
     "iopub.execute_input": "2020-10-18T15:43:12.953108Z",
     "iopub.status.busy": "2020-10-18T15:43:12.952246Z",
     "iopub.status.idle": "2020-10-18T15:43:12.956674Z",
     "shell.execute_reply": "2020-10-18T15:43:12.956123Z"
    },
    "papermill": {
     "duration": 0.028802,
     "end_time": "2020-10-18T15:43:12.956785",
     "exception": false,
     "start_time": "2020-10-18T15:43:12.927983",
     "status": "completed"
    },
    "tags": []
   },
   "outputs": [
    {
     "data": {
      "text/html": [
       "<div>\n",
       "<style scoped>\n",
       "    .dataframe tbody tr th:only-of-type {\n",
       "        vertical-align: middle;\n",
       "    }\n",
       "\n",
       "    .dataframe tbody tr th {\n",
       "        vertical-align: top;\n",
       "    }\n",
       "\n",
       "    .dataframe thead th {\n",
       "        text-align: right;\n",
       "    }\n",
       "</style>\n",
       "<table border=\"1\" class=\"dataframe\">\n",
       "  <thead>\n",
       "    <tr style=\"text-align: right;\">\n",
       "      <th></th>\n",
       "      <th>message</th>\n",
       "      <th>tweetid</th>\n",
       "      <th>sentiment</th>\n",
       "    </tr>\n",
       "  </thead>\n",
       "  <tbody>\n",
       "    <tr>\n",
       "      <th>0</th>\n",
       "      <td>europe looking china sure fighting climate cha...</td>\n",
       "      <td>169760</td>\n",
       "      <td>1</td>\n",
       "    </tr>\n",
       "    <tr>\n",
       "      <th>1</th>\n",
       "      <td>combine polling staffers climate change womens...</td>\n",
       "      <td>35326</td>\n",
       "      <td>1</td>\n",
       "    </tr>\n",
       "    <tr>\n",
       "      <th>2</th>\n",
       "      <td>the scary unimpeachable evidence climate chang...</td>\n",
       "      <td>224985</td>\n",
       "      <td>1</td>\n",
       "    </tr>\n",
       "    <tr>\n",
       "      <th>3</th>\n",
       "      <td>karoli morgfair osborneink dailykos putin got...</td>\n",
       "      <td>476263</td>\n",
       "      <td>1</td>\n",
       "    </tr>\n",
       "    <tr>\n",
       "      <th>4</th>\n",
       "      <td>rt fakewillmoore female orgasms cause global w...</td>\n",
       "      <td>872928</td>\n",
       "      <td>0</td>\n",
       "    </tr>\n",
       "  </tbody>\n",
       "</table>\n",
       "</div>"
      ],
      "text/plain": [
       "                                             message  tweetid  sentiment\n",
       "0  europe looking china sure fighting climate cha...   169760          1\n",
       "1  combine polling staffers climate change womens...    35326          1\n",
       "2  the scary unimpeachable evidence climate chang...   224985          1\n",
       "3   karoli morgfair osborneink dailykos putin got...   476263          1\n",
       "4  rt fakewillmoore female orgasms cause global w...   872928          0"
      ]
     },
     "execution_count": 13,
     "metadata": {},
     "output_type": "execute_result"
    }
   ],
   "source": [
    "test.head()"
   ]
  },
  {
   "cell_type": "markdown",
   "metadata": {
    "papermill": {
     "duration": 0.01528,
     "end_time": "2020-10-18T15:43:12.987846",
     "exception": false,
     "start_time": "2020-10-18T15:43:12.972566",
     "status": "completed"
    },
    "tags": []
   },
   "source": [
    "# **Creating an output csv for submission**"
   ]
  },
  {
   "cell_type": "code",
   "execution_count": 14,
   "metadata": {
    "execution": {
     "iopub.execute_input": "2020-10-18T15:43:13.028107Z",
     "iopub.status.busy": "2020-10-18T15:43:13.025802Z",
     "iopub.status.idle": "2020-10-18T15:43:13.374554Z",
     "shell.execute_reply": "2020-10-18T15:43:13.373922Z"
    },
    "papermill": {
     "duration": 0.371126,
     "end_time": "2020-10-18T15:43:13.374699",
     "exception": false,
     "start_time": "2020-10-18T15:43:13.003573",
     "status": "completed"
    },
    "tags": []
   },
   "outputs": [],
   "source": [
    "test[['tweetid','sentiment']].to_csv('testsubmission.csv', index=False)"
   ]
  }
 ],
 "metadata": {
  "kernelspec": {
   "display_name": "Python 3",
   "language": "python",
   "name": "python3"
  },
  "language_info": {
   "codemirror_mode": {
    "name": "ipython",
    "version": 3
   },
   "file_extension": ".py",
   "mimetype": "text/x-python",
   "name": "python",
   "nbconvert_exporter": "python",
   "pygments_lexer": "ipython3",
   "version": "3.7.6"
  },
  "papermill": {
   "duration": 54.088827,
   "end_time": "2020-10-18T15:43:13.498115",
   "environment_variables": {},
   "exception": null,
   "input_path": "__notebook__.ipynb",
   "output_path": "__notebook__.ipynb",
   "parameters": {},
   "start_time": "2020-10-18T15:42:19.409288",
   "version": "2.1.0"
  }
 },
 "nbformat": 4,
 "nbformat_minor": 4
}
