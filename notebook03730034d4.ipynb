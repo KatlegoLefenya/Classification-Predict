{
 "cells": [
  {
   "cell_type": "markdown",
   "metadata": {
    "papermill": {
     "duration": 0.01251,
     "end_time": "2020-10-12T17:25:26.544857",
     "exception": false,
     "start_time": "2020-10-12T17:25:26.532347",
     "status": "completed"
    },
    "tags": []
   },
   "source": [
    "# **Import necessary libraries**"
   ]
  },
  {
   "cell_type": "code",
   "execution_count": 1,
   "metadata": {
    "_cell_guid": "79c7e3d0-c299-4dcb-8224-4455121ee9b0",
    "_uuid": "d629ff2d2480ee46fbb7e2d37f6b5fab8052498a",
    "execution": {
     "iopub.execute_input": "2020-10-12T17:25:26.580001Z",
     "iopub.status.busy": "2020-10-12T17:25:26.579190Z",
     "iopub.status.idle": "2020-10-12T17:25:28.508584Z",
     "shell.execute_reply": "2020-10-12T17:25:28.507760Z"
    },
    "papermill": {
     "duration": 1.952319,
     "end_time": "2020-10-12T17:25:28.508707",
     "exception": false,
     "start_time": "2020-10-12T17:25:26.556388",
     "status": "completed"
    },
    "tags": []
   },
   "outputs": [],
   "source": [
    "# Standard packages\n",
    "import numpy as np\n",
    "import pandas as pd\n",
    "import matplotlib.pyplot as plt\n",
    "import seaborn as sns\n",
    "%matplotlib inline\n",
    "\n",
    "\n",
    "# nltk for preprocessing of text data\n",
    "import nltk\n",
    "import string\n",
    "import re\n",
    "from nltk.tokenize import sent_tokenize, word_tokenize\n",
    "from nltk.corpus import stopwords\n",
    "from nltk.stem import WordNetLemmatizer\n",
    "from nltk.stem.snowball import SnowballStemmer\n",
    "\n",
    "# sklearn for preprocessing and machine learning models\n",
    "from sklearn.feature_extraction.text import TfidfVectorizer\n",
    "from sklearn.model_selection import GridSearchCV\n",
    "from sklearn.linear_model import LogisticRegression\n",
    "from sklearn.neighbors import KNeighborsClassifier\n",
    "from sklearn.naive_bayes import GaussianNB\n",
    "from sklearn.naive_bayes import MultinomialNB\n",
    "from sklearn.ensemble import RandomForestClassifier, AdaBoostClassifier\n",
    "from sklearn.svm import SVC\n",
    "from sklearn.model_selection import train_test_split\n",
    "from sklearn.metrics import f1_score\n",
    "\n"
   ]
  },
  {
   "cell_type": "markdown",
   "metadata": {
    "papermill": {
     "duration": 0.01105,
     "end_time": "2020-10-12T17:25:28.532516",
     "exception": false,
     "start_time": "2020-10-12T17:25:28.521466",
     "status": "completed"
    },
    "tags": []
   },
   "source": [
    "# **Load data**"
   ]
  },
  {
   "cell_type": "code",
   "execution_count": 2,
   "metadata": {
    "execution": {
     "iopub.execute_input": "2020-10-12T17:25:28.568103Z",
     "iopub.status.busy": "2020-10-12T17:25:28.567439Z",
     "iopub.status.idle": "2020-10-12T17:25:28.660965Z",
     "shell.execute_reply": "2020-10-12T17:25:28.660315Z"
    },
    "papermill": {
     "duration": 0.117132,
     "end_time": "2020-10-12T17:25:28.661117",
     "exception": false,
     "start_time": "2020-10-12T17:25:28.543985",
     "status": "completed"
    },
    "tags": []
   },
   "outputs": [],
   "source": [
    "train = pd.read_csv('../input/climate-change-edsa2020-21/train.csv')\n",
    "test = pd.read_csv('../input/climate-change-edsa2020-21/test.csv')"
   ]
  },
  {
   "cell_type": "markdown",
   "metadata": {
    "papermill": {
     "duration": 0.011362,
     "end_time": "2020-10-12T17:25:28.685724",
     "exception": false,
     "start_time": "2020-10-12T17:25:28.674362",
     "status": "completed"
    },
    "tags": []
   },
   "source": [
    "# **Preprocessing**"
   ]
  },
  {
   "cell_type": "code",
   "execution_count": 3,
   "metadata": {
    "execution": {
     "iopub.execute_input": "2020-10-12T17:25:28.751219Z",
     "iopub.status.busy": "2020-10-12T17:25:28.746045Z",
     "iopub.status.idle": "2020-10-12T17:25:28.986728Z",
     "shell.execute_reply": "2020-10-12T17:25:28.986045Z"
    },
    "papermill": {
     "duration": 0.289425,
     "end_time": "2020-10-12T17:25:28.986843",
     "exception": false,
     "start_time": "2020-10-12T17:25:28.697418",
     "status": "completed"
    },
    "tags": []
   },
   "outputs": [],
   "source": [
    "# Remove punctuation on train and test dataset\n",
    "\n",
    "PUNCT_TO_REMOVE = string.punctuation\n",
    "def remove_punctuation(text):\n",
    "    \"\"\"custom function to remove the punctuation\"\"\"\n",
    "    return text.translate(str.maketrans('', '', PUNCT_TO_REMOVE))\n",
    "\n",
    "train[\"message\"] = train[\"message\"].apply(lambda text: remove_punctuation(text))\n",
    "test[\"message\"] = test[\"message\"].apply(lambda text: remove_punctuation(text))\n",
    "\n"
   ]
  },
  {
   "cell_type": "markdown",
   "metadata": {
    "papermill": {
     "duration": 0.011522,
     "end_time": "2020-10-12T17:25:29.010165",
     "exception": false,
     "start_time": "2020-10-12T17:25:28.998643",
     "status": "completed"
    },
    "tags": []
   },
   "source": [
    "# **Split data to X and y variables**"
   ]
  },
  {
   "cell_type": "code",
   "execution_count": 4,
   "metadata": {
    "execution": {
     "iopub.execute_input": "2020-10-12T17:25:29.038777Z",
     "iopub.status.busy": "2020-10-12T17:25:29.038133Z",
     "iopub.status.idle": "2020-10-12T17:25:29.041435Z",
     "shell.execute_reply": "2020-10-12T17:25:29.040820Z"
    },
    "papermill": {
     "duration": 0.019702,
     "end_time": "2020-10-12T17:25:29.041551",
     "exception": false,
     "start_time": "2020-10-12T17:25:29.021849",
     "status": "completed"
    },
    "tags": []
   },
   "outputs": [],
   "source": [
    "y = train['sentiment']\n",
    "X = train['message']"
   ]
  },
  {
   "cell_type": "markdown",
   "metadata": {
    "papermill": {
     "duration": 0.011433,
     "end_time": "2020-10-12T17:25:29.064820",
     "exception": false,
     "start_time": "2020-10-12T17:25:29.053387",
     "status": "completed"
    },
    "tags": []
   },
   "source": [
    "# **Turning text into something your model can read**"
   ]
  },
  {
   "cell_type": "code",
   "execution_count": 5,
   "metadata": {
    "execution": {
     "iopub.execute_input": "2020-10-12T17:25:29.112148Z",
     "iopub.status.busy": "2020-10-12T17:25:29.096564Z",
     "iopub.status.idle": "2020-10-12T17:25:29.825790Z",
     "shell.execute_reply": "2020-10-12T17:25:29.826331Z"
    },
    "papermill": {
     "duration": 0.749907,
     "end_time": "2020-10-12T17:25:29.826505",
     "exception": false,
     "start_time": "2020-10-12T17:25:29.076598",
     "status": "completed"
    },
    "tags": []
   },
   "outputs": [],
   "source": [
    "vectorizer = TfidfVectorizer(ngram_range=(1,2), min_df=2, stop_words=\"english\")\n",
    "X_vectorized = vectorizer.fit_transform(X)"
   ]
  },
  {
   "cell_type": "markdown",
   "metadata": {
    "papermill": {
     "duration": 0.011841,
     "end_time": "2020-10-12T17:25:29.850495",
     "exception": false,
     "start_time": "2020-10-12T17:25:29.838654",
     "status": "completed"
    },
    "tags": []
   },
   "source": [
    "# Splitting the training data into a training and validation set"
   ]
  },
  {
   "cell_type": "code",
   "execution_count": 6,
   "metadata": {
    "execution": {
     "iopub.execute_input": "2020-10-12T17:25:29.880069Z",
     "iopub.status.busy": "2020-10-12T17:25:29.879384Z",
     "iopub.status.idle": "2020-10-12T17:25:29.894207Z",
     "shell.execute_reply": "2020-10-12T17:25:29.893518Z"
    },
    "papermill": {
     "duration": 0.031868,
     "end_time": "2020-10-12T17:25:29.894323",
     "exception": false,
     "start_time": "2020-10-12T17:25:29.862455",
     "status": "completed"
    },
    "tags": []
   },
   "outputs": [],
   "source": [
    "X_train,X_val,y_train,y_val = train_test_split(X_vectorized,y,test_size=0.3,shuffle=True, \n",
    "                                                stratify=y, random_state=72)"
   ]
  },
  {
   "cell_type": "markdown",
   "metadata": {
    "papermill": {
     "duration": 0.011776,
     "end_time": "2020-10-12T17:25:29.918189",
     "exception": false,
     "start_time": "2020-10-12T17:25:29.906413",
     "status": "completed"
    },
    "tags": []
   },
   "source": [
    "# **Training the model and evaluating using the validation set**"
   ]
  },
  {
   "cell_type": "code",
   "execution_count": 7,
   "metadata": {
    "execution": {
     "iopub.execute_input": "2020-10-12T17:25:29.948103Z",
     "iopub.status.busy": "2020-10-12T17:25:29.947420Z",
     "iopub.status.idle": "2020-10-12T17:25:53.058632Z",
     "shell.execute_reply": "2020-10-12T17:25:53.058062Z"
    },
    "papermill": {
     "duration": 23.12842,
     "end_time": "2020-10-12T17:25:53.058755",
     "exception": false,
     "start_time": "2020-10-12T17:25:29.930335",
     "status": "completed"
    },
    "tags": []
   },
   "outputs": [],
   "source": [
    "svc = SVC(kernel='linear')\n",
    "svc.fit(X_train,y_train)\n",
    "svc_pred = svc.predict(X_val)"
   ]
  },
  {
   "cell_type": "code",
   "execution_count": 8,
   "metadata": {
    "execution": {
     "iopub.execute_input": "2020-10-12T17:25:53.089774Z",
     "iopub.status.busy": "2020-10-12T17:25:53.089074Z",
     "iopub.status.idle": "2020-10-12T17:25:53.098118Z",
     "shell.execute_reply": "2020-10-12T17:25:53.097491Z"
    },
    "papermill": {
     "duration": 0.026666,
     "end_time": "2020-10-12T17:25:53.098239",
     "exception": false,
     "start_time": "2020-10-12T17:25:53.071573",
     "status": "completed"
    },
    "tags": []
   },
   "outputs": [
    {
     "data": {
      "text/plain": [
       "0.626447651884817"
      ]
     },
     "execution_count": 8,
     "metadata": {},
     "output_type": "execute_result"
    }
   ],
   "source": [
    "f1_score(y_val, svc_pred, average=\"macro\")"
   ]
  },
  {
   "cell_type": "markdown",
   "metadata": {
    "papermill": {
     "duration": 0.01247,
     "end_time": "2020-10-12T17:25:53.123937",
     "exception": false,
     "start_time": "2020-10-12T17:25:53.111467",
     "status": "completed"
    },
    "tags": []
   },
   "source": [
    "# **Getting our test set ready**"
   ]
  },
  {
   "cell_type": "code",
   "execution_count": 9,
   "metadata": {
    "execution": {
     "iopub.execute_input": "2020-10-12T17:25:53.183802Z",
     "iopub.status.busy": "2020-10-12T17:25:53.168259Z",
     "iopub.status.idle": "2020-10-12T17:25:53.485397Z",
     "shell.execute_reply": "2020-10-12T17:25:53.486016Z"
    },
    "papermill": {
     "duration": 0.349313,
     "end_time": "2020-10-12T17:25:53.486182",
     "exception": false,
     "start_time": "2020-10-12T17:25:53.136869",
     "status": "completed"
    },
    "tags": []
   },
   "outputs": [],
   "source": [
    "testx = test['message']\n",
    "test_vect = vectorizer.transform(testx)"
   ]
  },
  {
   "cell_type": "markdown",
   "metadata": {
    "papermill": {
     "duration": 0.012903,
     "end_time": "2020-10-12T17:25:53.512336",
     "exception": false,
     "start_time": "2020-10-12T17:25:53.499433",
     "status": "completed"
    },
    "tags": []
   },
   "source": [
    "# **Making predictions on the test set and adding a sentiment column to our original test df**"
   ]
  },
  {
   "cell_type": "code",
   "execution_count": 10,
   "metadata": {
    "execution": {
     "iopub.execute_input": "2020-10-12T17:25:53.554302Z",
     "iopub.status.busy": "2020-10-12T17:25:53.553240Z",
     "iopub.status.idle": "2020-10-12T17:26:04.623166Z",
     "shell.execute_reply": "2020-10-12T17:26:04.622599Z"
    },
    "papermill": {
     "duration": 11.09586,
     "end_time": "2020-10-12T17:26:04.623293",
     "exception": false,
     "start_time": "2020-10-12T17:25:53.527433",
     "status": "completed"
    },
    "tags": []
   },
   "outputs": [],
   "source": [
    "y_pred = svc.predict(test_vect)"
   ]
  },
  {
   "cell_type": "code",
   "execution_count": 11,
   "metadata": {
    "execution": {
     "iopub.execute_input": "2020-10-12T17:26:04.654806Z",
     "iopub.status.busy": "2020-10-12T17:26:04.654185Z",
     "iopub.status.idle": "2020-10-12T17:26:04.657295Z",
     "shell.execute_reply": "2020-10-12T17:26:04.656672Z"
    },
    "papermill": {
     "duration": 0.02097,
     "end_time": "2020-10-12T17:26:04.657406",
     "exception": false,
     "start_time": "2020-10-12T17:26:04.636436",
     "status": "completed"
    },
    "tags": []
   },
   "outputs": [],
   "source": [
    "test['sentiment'] = y_pred"
   ]
  },
  {
   "cell_type": "code",
   "execution_count": 12,
   "metadata": {
    "execution": {
     "iopub.execute_input": "2020-10-12T17:26:04.692917Z",
     "iopub.status.busy": "2020-10-12T17:26:04.692201Z",
     "iopub.status.idle": "2020-10-12T17:26:04.702209Z",
     "shell.execute_reply": "2020-10-12T17:26:04.701533Z"
    },
    "papermill": {
     "duration": 0.031947,
     "end_time": "2020-10-12T17:26:04.702332",
     "exception": false,
     "start_time": "2020-10-12T17:26:04.670385",
     "status": "completed"
    },
    "tags": []
   },
   "outputs": [
    {
     "data": {
      "text/html": [
       "<div>\n",
       "<style scoped>\n",
       "    .dataframe tbody tr th:only-of-type {\n",
       "        vertical-align: middle;\n",
       "    }\n",
       "\n",
       "    .dataframe tbody tr th {\n",
       "        vertical-align: top;\n",
       "    }\n",
       "\n",
       "    .dataframe thead th {\n",
       "        text-align: right;\n",
       "    }\n",
       "</style>\n",
       "<table border=\"1\" class=\"dataframe\">\n",
       "  <thead>\n",
       "    <tr style=\"text-align: right;\">\n",
       "      <th></th>\n",
       "      <th>message</th>\n",
       "      <th>tweetid</th>\n",
       "      <th>sentiment</th>\n",
       "    </tr>\n",
       "  </thead>\n",
       "  <tbody>\n",
       "    <tr>\n",
       "      <th>0</th>\n",
       "      <td>Europe will now be looking to China to make su...</td>\n",
       "      <td>169760</td>\n",
       "      <td>1</td>\n",
       "    </tr>\n",
       "    <tr>\n",
       "      <th>1</th>\n",
       "      <td>Combine this with the polling of staffers re c...</td>\n",
       "      <td>35326</td>\n",
       "      <td>1</td>\n",
       "    </tr>\n",
       "    <tr>\n",
       "      <th>2</th>\n",
       "      <td>The scary unimpeachable evidence that climate ...</td>\n",
       "      <td>224985</td>\n",
       "      <td>1</td>\n",
       "    </tr>\n",
       "    <tr>\n",
       "      <th>3</th>\n",
       "      <td>Karoli morgfair OsborneInk dailykos \\nPutin go...</td>\n",
       "      <td>476263</td>\n",
       "      <td>1</td>\n",
       "    </tr>\n",
       "    <tr>\n",
       "      <th>4</th>\n",
       "      <td>RT FakeWillMoore Female orgasms cause global w...</td>\n",
       "      <td>872928</td>\n",
       "      <td>1</td>\n",
       "    </tr>\n",
       "    <tr>\n",
       "      <th>5</th>\n",
       "      <td>RT nycjim Trump muzzles employees of several g...</td>\n",
       "      <td>75639</td>\n",
       "      <td>1</td>\n",
       "    </tr>\n",
       "    <tr>\n",
       "      <th>6</th>\n",
       "      <td>bmastenbrook yes wrote that in 3rd yr Comp Sci...</td>\n",
       "      <td>211536</td>\n",
       "      <td>1</td>\n",
       "    </tr>\n",
       "    <tr>\n",
       "      <th>7</th>\n",
       "      <td>RT climatehawk1 Indonesian farmers weather cli...</td>\n",
       "      <td>569434</td>\n",
       "      <td>1</td>\n",
       "    </tr>\n",
       "    <tr>\n",
       "      <th>8</th>\n",
       "      <td>RT guardian British scientists face a ‘huge hi...</td>\n",
       "      <td>315368</td>\n",
       "      <td>2</td>\n",
       "    </tr>\n",
       "    <tr>\n",
       "      <th>9</th>\n",
       "      <td>Aid For Agriculture  Sustainable agriculture a...</td>\n",
       "      <td>591733</td>\n",
       "      <td>1</td>\n",
       "    </tr>\n",
       "    <tr>\n",
       "      <th>10</th>\n",
       "      <td>There is no climate change Globalists httpstco...</td>\n",
       "      <td>91983</td>\n",
       "      <td>1</td>\n",
       "    </tr>\n",
       "    <tr>\n",
       "      <th>11</th>\n",
       "      <td>Biggest threat to our economy is climate chang...</td>\n",
       "      <td>67249</td>\n",
       "      <td>1</td>\n",
       "    </tr>\n",
       "    <tr>\n",
       "      <th>12</th>\n",
       "      <td>RT 100isNow Hes CEO of a company that lied abo...</td>\n",
       "      <td>143459</td>\n",
       "      <td>2</td>\n",
       "    </tr>\n",
       "    <tr>\n",
       "      <th>13</th>\n",
       "      <td>RT VICE Venice could be swallowed by water wit...</td>\n",
       "      <td>663535</td>\n",
       "      <td>1</td>\n",
       "    </tr>\n",
       "    <tr>\n",
       "      <th>14</th>\n",
       "      <td>RT TotalCardsMove Its so warm outside because ...</td>\n",
       "      <td>20476</td>\n",
       "      <td>0</td>\n",
       "    </tr>\n",
       "    <tr>\n",
       "      <th>15</th>\n",
       "      <td>Niggas ask me what my inspiration was I told e...</td>\n",
       "      <td>815297</td>\n",
       "      <td>0</td>\n",
       "    </tr>\n",
       "    <tr>\n",
       "      <th>16</th>\n",
       "      <td>RT SenSanders We have a presidentelect who doe...</td>\n",
       "      <td>274098</td>\n",
       "      <td>1</td>\n",
       "    </tr>\n",
       "    <tr>\n",
       "      <th>17</th>\n",
       "      <td>RT sccscot We welcome recommendations publishe...</td>\n",
       "      <td>30045</td>\n",
       "      <td>2</td>\n",
       "    </tr>\n",
       "    <tr>\n",
       "      <th>18</th>\n",
       "      <td>RT yajairaxlove MidNovember amp its hot as hel...</td>\n",
       "      <td>681487</td>\n",
       "      <td>-1</td>\n",
       "    </tr>\n",
       "    <tr>\n",
       "      <th>19</th>\n",
       "      <td>Recordbreaking climate change pushes world int...</td>\n",
       "      <td>708966</td>\n",
       "      <td>2</td>\n",
       "    </tr>\n",
       "  </tbody>\n",
       "</table>\n",
       "</div>"
      ],
      "text/plain": [
       "                                              message  tweetid  sentiment\n",
       "0   Europe will now be looking to China to make su...   169760          1\n",
       "1   Combine this with the polling of staffers re c...    35326          1\n",
       "2   The scary unimpeachable evidence that climate ...   224985          1\n",
       "3   Karoli morgfair OsborneInk dailykos \\nPutin go...   476263          1\n",
       "4   RT FakeWillMoore Female orgasms cause global w...   872928          1\n",
       "5   RT nycjim Trump muzzles employees of several g...    75639          1\n",
       "6   bmastenbrook yes wrote that in 3rd yr Comp Sci...   211536          1\n",
       "7   RT climatehawk1 Indonesian farmers weather cli...   569434          1\n",
       "8   RT guardian British scientists face a ‘huge hi...   315368          2\n",
       "9   Aid For Agriculture  Sustainable agriculture a...   591733          1\n",
       "10  There is no climate change Globalists httpstco...    91983          1\n",
       "11  Biggest threat to our economy is climate chang...    67249          1\n",
       "12  RT 100isNow Hes CEO of a company that lied abo...   143459          2\n",
       "13  RT VICE Venice could be swallowed by water wit...   663535          1\n",
       "14  RT TotalCardsMove Its so warm outside because ...    20476          0\n",
       "15  Niggas ask me what my inspiration was I told e...   815297          0\n",
       "16  RT SenSanders We have a presidentelect who doe...   274098          1\n",
       "17  RT sccscot We welcome recommendations publishe...    30045          2\n",
       "18  RT yajairaxlove MidNovember amp its hot as hel...   681487         -1\n",
       "19  Recordbreaking climate change pushes world int...   708966          2"
      ]
     },
     "execution_count": 12,
     "metadata": {},
     "output_type": "execute_result"
    }
   ],
   "source": [
    "test.head(20)"
   ]
  },
  {
   "cell_type": "markdown",
   "metadata": {
    "papermill": {
     "duration": 0.013387,
     "end_time": "2020-10-12T17:26:04.729660",
     "exception": false,
     "start_time": "2020-10-12T17:26:04.716273",
     "status": "completed"
    },
    "tags": []
   },
   "source": [
    "# **Creating an output csv for submission**"
   ]
  },
  {
   "cell_type": "code",
   "execution_count": 13,
   "metadata": {
    "execution": {
     "iopub.execute_input": "2020-10-12T17:26:04.767898Z",
     "iopub.status.busy": "2020-10-12T17:26:04.763592Z",
     "iopub.status.idle": "2020-10-12T17:26:05.051521Z",
     "shell.execute_reply": "2020-10-12T17:26:05.050746Z"
    },
    "papermill": {
     "duration": 0.308387,
     "end_time": "2020-10-12T17:26:05.051649",
     "exception": false,
     "start_time": "2020-10-12T17:26:04.743262",
     "status": "completed"
    },
    "tags": []
   },
   "outputs": [],
   "source": [
    "test[['tweetid','sentiment']].to_csv('testsubmission.csv', index=False)"
   ]
  }
 ],
 "metadata": {
  "kernelspec": {
   "display_name": "Python 3",
   "language": "python",
   "name": "python3"
  },
  "language_info": {
   "codemirror_mode": {
    "name": "ipython",
    "version": 3
   },
   "file_extension": ".py",
   "mimetype": "text/x-python",
   "name": "python",
   "nbconvert_exporter": "python",
   "pygments_lexer": "ipython3",
   "version": "3.7.6"
  },
  "papermill": {
   "duration": 43.141709,
   "end_time": "2020-10-12T17:26:05.173472",
   "environment_variables": {},
   "exception": null,
   "input_path": "__notebook__.ipynb",
   "output_path": "__notebook__.ipynb",
   "parameters": {},
   "start_time": "2020-10-12T17:25:22.031763",
   "version": "2.1.0"
  }
 },
 "nbformat": 4,
 "nbformat_minor": 4
}
